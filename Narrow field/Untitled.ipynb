{
 "cells": [
  {
   "cell_type": "code",
   "execution_count": 2,
   "id": "0438107d",
   "metadata": {},
   "outputs": [],
   "source": [
    "from snAPI.Main import *\n",
    "import matplotlib.pyplot as plt\n",
    "import os\n",
    "import pandas as pd"
   ]
  },
  {
   "cell_type": "code",
   "execution_count": 3,
   "id": "b8603f8d",
   "metadata": {},
   "outputs": [],
   "source": [
    "sn=snAPI()"
   ]
  },
  {
   "cell_type": "code",
   "execution_count": 7,
   "id": "1d427759",
   "metadata": {},
   "outputs": [
    {
     "ename": "NotADirectoryError",
     "evalue": "[WinError 267] El nombre del directorio no es válido: '../../Acquisition2/Data/Trial/PTU_0.00_0.00.ptu'",
     "output_type": "error",
     "traceback": [
      "\u001b[1;31m---------------------------------------------------------------------------\u001b[0m",
      "\u001b[1;31mNotADirectoryError\u001b[0m                        Traceback (most recent call last)",
      "Cell \u001b[1;32mIn[7], line 2\u001b[0m\n\u001b[0;32m      1\u001b[0m filename\u001b[38;5;241m=\u001b[39m\u001b[38;5;124m'\u001b[39m\u001b[38;5;124m../../Acquisition2/Data/Trial/PTU_0.00_0.00.ptu\u001b[39m\u001b[38;5;124m'\u001b[39m\n\u001b[1;32m----> 2\u001b[0m os\u001b[38;5;241m.\u001b[39mlistdir(filename)\n",
      "\u001b[1;31mNotADirectoryError\u001b[0m: [WinError 267] El nombre del directorio no es válido: '../../Acquisition2/Data/Trial/PTU_0.00_0.00.ptu'"
     ]
    }
   ],
   "source": [
    "filename='../../Acquisition2/Data/Trial/PTU_0.00_0.00.ptu'\n",
    "os.listdir(filename)"
   ]
  },
  {
   "cell_type": "code",
   "execution_count": 8,
   "id": "2baa71c5",
   "metadata": {},
   "outputs": [],
   "source": [
    "sn.getFileDevice(filename)\n",
    "sn.initDevice(MeasMode.T3)\n",
    "t_resol=sn.deviceConfig['Resolution']/1000 #in ns\n",
    "sn.raw.measure()\n",
    "data = sn.raw.getData()\n",
    "channels=sn.raw.channel(data)\n",
    "dTimes=sn.raw.dTime_T3(data)[np.where(channels!=64)]*t_resol\n",
    "dataChannels=channels[np.where(channels!=64)]\n",
    "sn.unfold.measure()\n",
    "absTimes=sn.unfold.getData()[0]/1e3 # in ns\n",
    "df=pd.DataFrame(np.array([dTimes,absTimes,dataChannels]).T,columns=['dTimes','absTimes','Channels'])\n",
    "sn.closeDevice()"
   ]
  },
  {
   "cell_type": "code",
   "execution_count": 9,
   "id": "95763555",
   "metadata": {},
   "outputs": [
    {
     "data": {
      "text/html": [
       "<div>\n",
       "<style scoped>\n",
       "    .dataframe tbody tr th:only-of-type {\n",
       "        vertical-align: middle;\n",
       "    }\n",
       "\n",
       "    .dataframe tbody tr th {\n",
       "        vertical-align: top;\n",
       "    }\n",
       "\n",
       "    .dataframe thead th {\n",
       "        text-align: right;\n",
       "    }\n",
       "</style>\n",
       "<table border=\"1\" class=\"dataframe\">\n",
       "  <thead>\n",
       "    <tr style=\"text-align: right;\">\n",
       "      <th></th>\n",
       "      <th>dTimes</th>\n",
       "      <th>absTimes</th>\n",
       "      <th>Channels</th>\n",
       "    </tr>\n",
       "  </thead>\n",
       "  <tbody>\n",
       "    <tr>\n",
       "      <th>0</th>\n",
       "      <td>12.735</td>\n",
       "      <td>4.532876e+07</td>\n",
       "      <td>3.0</td>\n",
       "    </tr>\n",
       "    <tr>\n",
       "      <th>1</th>\n",
       "      <td>27.767</td>\n",
       "      <td>6.002642e+07</td>\n",
       "      <td>3.0</td>\n",
       "    </tr>\n",
       "    <tr>\n",
       "      <th>2</th>\n",
       "      <td>17.658</td>\n",
       "      <td>4.261248e+08</td>\n",
       "      <td>3.0</td>\n",
       "    </tr>\n",
       "  </tbody>\n",
       "</table>\n",
       "</div>"
      ],
      "text/plain": [
       "   dTimes      absTimes  Channels\n",
       "0  12.735  4.532876e+07       3.0\n",
       "1  27.767  6.002642e+07       3.0\n",
       "2  17.658  4.261248e+08       3.0"
      ]
     },
     "execution_count": 9,
     "metadata": {},
     "output_type": "execute_result"
    }
   ],
   "source": [
    "df"
   ]
  },
  {
   "cell_type": "code",
   "execution_count": 6,
   "id": "93b372f1",
   "metadata": {},
   "outputs": [
    {
     "data": {
      "text/plain": [
       "[<matplotlib.lines.Line2D at 0x16d59474f90>]"
      ]
     },
     "execution_count": 6,
     "metadata": {},
     "output_type": "execute_result"
    },
    {
     "data": {
      "image/png": "[encoded data removed]",
      "text/plain": [
       "<Figure size 640x480 with 1 Axes>"
      ]
     },
     "metadata": {},
     "output_type": "display_data"
    }
   ],
   "source": [
    "plt.plot(sn.raw.markers(data)[2][0:1000])"
   ]
  },
  {
   "cell_type": "code",
   "execution_count": null,
   "id": "6861a5c9",
   "metadata": {},
   "outputs": [],
   "source": []
  }
 ],
 "metadata": {
  "kernelspec": {
   "display_name": "Python 3 (ipykernel)",
   "language": "python",
   "name": "python3"
  },
  "language_info": {
   "codemirror_mode": {
    "name": "ipython",
    "version": 3
   },
   "file_extension": ".py",
   "mimetype": "text/x-python",
   "name": "python",
   "nbconvert_exporter": "python",
   "pygments_lexer": "ipython3",
   "version": "3.11.4"
  },
  "toc": {
   "base_numbering": 1,
   "nav_menu": {},
   "number_sections": true,
   "sideBar": true,
   "skip_h1_title": false,
   "title_cell": "Table of Contents",
   "title_sidebar": "Contents",
   "toc_cell": false,
   "toc_position": {},
   "toc_section_display": true,
   "toc_window_display": false
  }
 },
 "nbformat": 4,
 "nbformat_minor": 5
}
