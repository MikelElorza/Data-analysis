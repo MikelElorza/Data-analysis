{
 "cells": [
  {
   "cell_type": "code",
   "execution_count": 2,
   "id": "c6ecbb90",
   "metadata": {},
   "outputs": [],
   "source": [
    "import os\n",
    "import matplotlib.pyplot as plt\n",
    "import numpy as np\n",
    "from HH import HH_T3\n",
    "from Functions import *\n"
   ]
  },
  {
   "cell_type": "code",
   "execution_count": 16,
   "id": "fdff46a8",
   "metadata": {},
   "outputs": [
    {
     "data": {
      "text/plain": [
       "['1909_FIT_LIFETIME_AAN155_EPL375_50KHz_20micro_9182ch_30min_slit2_emi620_5minAr.FL',\n",
       " '1909_LIFETIME_AAN155_Ba_EPL375_50KHz_20micro_9182ch_30min_slit2_emi502_ALL.xlsx',\n",
       " '1909_LIFETIME_AAN155_Ba_EPL375_50KHz_20micro_9182ch_30min_slit2_emi620_ALL.CSV',\n",
       " '1909_LIFETIME_AAN155_Ba_EPL375_50KHz_20micro_9182ch_30min_slit2_emi620_ALL.FL',\n",
       " '1909_LIFETIME_AAN155_Ba_EPL375_50KHz_20micro_9182ch_30min_slit2_emi620_ALL.xlsx',\n",
       " '1909_LIFETIME_AAN155_EPL375_50KHz_20micro_9182ch_30min_slit2_emi502.csv',\n",
       " '1909_LIFETIME_AAN155_EPL375_50KHz_20micro_9182ch_30min_slit2_emi502.FL',\n",
       " '1909_LIFETIME_AAN155_EPL375_50KHz_20micro_9182ch_30min_slit2_emi502.txt',\n",
       " '1909_LIFETIME_AAN155_EPL375_50KHz_20micro_9182ch_30min_slit2_emi502.wmf',\n",
       " '1909_LIFETIME_AAN155_EPL375_50KHz_20micro_9182ch_30min_slit2_emi502_1minAr.csv',\n",
       " '1909_LIFETIME_AAN155_EPL375_50KHz_20micro_9182ch_30min_slit2_emi502_1minAr.FL',\n",
       " '1909_LIFETIME_AAN155_EPL375_50KHz_20micro_9182ch_30min_slit2_emi502_1minAr.txt',\n",
       " '1909_LIFETIME_AAN155_EPL375_50KHz_20micro_9182ch_30min_slit2_emi502_1minAr.wmf',\n",
       " '1909_LIFETIME_AAN155_EPL375_50KHz_20micro_9182ch_30min_slit2_emi502_2minAr.csv',\n",
       " '1909_LIFETIME_AAN155_EPL375_50KHz_20micro_9182ch_30min_slit2_emi502_2minAr.FL',\n",
       " '1909_LIFETIME_AAN155_EPL375_50KHz_20micro_9182ch_30min_slit2_emi502_2minAr.txt',\n",
       " '1909_LIFETIME_AAN155_EPL375_50KHz_20micro_9182ch_30min_slit2_emi502_2minAr.wmf',\n",
       " '1909_LIFETIME_AAN155_EPL375_50KHz_20micro_9182ch_30min_slit2_emi502_3minAr.csv',\n",
       " '1909_LIFETIME_AAN155_EPL375_50KHz_20micro_9182ch_30min_slit2_emi502_3minAr.FL',\n",
       " '1909_LIFETIME_AAN155_EPL375_50KHz_20micro_9182ch_30min_slit2_emi502_3minAr.txt',\n",
       " '1909_LIFETIME_AAN155_EPL375_50KHz_20micro_9182ch_30min_slit2_emi502_3minAr.wmf',\n",
       " '1909_LIFETIME_AAN155_EPL375_50KHz_20micro_9182ch_30min_slit2_emi502_4minAr.csv',\n",
       " '1909_LIFETIME_AAN155_EPL375_50KHz_20micro_9182ch_30min_slit2_emi502_4minAr.FL',\n",
       " '1909_LIFETIME_AAN155_EPL375_50KHz_20micro_9182ch_30min_slit2_emi502_4minAr.txt',\n",
       " '1909_LIFETIME_AAN155_EPL375_50KHz_20micro_9182ch_30min_slit2_emi502_4minAr.wmf',\n",
       " '1909_LIFETIME_AAN155_EPL375_50KHz_20micro_9182ch_30min_slit2_emi502_5minAr.csv',\n",
       " '1909_LIFETIME_AAN155_EPL375_50KHz_20micro_9182ch_30min_slit2_emi502_5minAr.FL',\n",
       " '1909_LIFETIME_AAN155_EPL375_50KHz_20micro_9182ch_30min_slit2_emi502_5minAr.txt',\n",
       " '1909_LIFETIME_AAN155_EPL375_50KHz_20micro_9182ch_30min_slit2_emi502_5minAr.wmf',\n",
       " '1909_LIFETIME_AAN155_EPL375_50KHz_20micro_9182ch_30min_slit2_emi502_ALL.CSV',\n",
       " '1909_LIFETIME_AAN155_EPL375_50KHz_20micro_9182ch_30min_slit2_emi502_ALL.FL',\n",
       " '1909_LIFETIME_AAN155_EPL375_50KHz_20micro_9182ch_30min_slit2_emi502_ALL.xlsx',\n",
       " '1909_LIFETIME_AAN155_EPL375_50KHz_20micro_9182ch_30min_slit2_emi620.csv',\n",
       " '1909_LIFETIME_AAN155_EPL375_50KHz_20micro_9182ch_30min_slit2_emi620.FL',\n",
       " '1909_LIFETIME_AAN155_EPL375_50KHz_20micro_9182ch_30min_slit2_emi620.txt',\n",
       " '1909_LIFETIME_AAN155_EPL375_50KHz_20micro_9182ch_30min_slit2_emi620.wmf',\n",
       " '1909_LIFETIME_AAN155_EPL375_50KHz_20micro_9182ch_30min_slit2_emi620_1minAr.csv',\n",
       " '1909_LIFETIME_AAN155_EPL375_50KHz_20micro_9182ch_30min_slit2_emi620_1minAr.FL',\n",
       " '1909_LIFETIME_AAN155_EPL375_50KHz_20micro_9182ch_30min_slit2_emi620_1minAr.txt',\n",
       " '1909_LIFETIME_AAN155_EPL375_50KHz_20micro_9182ch_30min_slit2_emi620_1minAr.wmf',\n",
       " '1909_LIFETIME_AAN155_EPL375_50KHz_20micro_9182ch_30min_slit2_emi620_2minAr.csv',\n",
       " '1909_LIFETIME_AAN155_EPL375_50KHz_20micro_9182ch_30min_slit2_emi620_2minAr.FL',\n",
       " '1909_LIFETIME_AAN155_EPL375_50KHz_20micro_9182ch_30min_slit2_emi620_2minAr.txt',\n",
       " '1909_LIFETIME_AAN155_EPL375_50KHz_20micro_9182ch_30min_slit2_emi620_2minAr.wmf',\n",
       " '1909_LIFETIME_AAN155_EPL375_50KHz_20micro_9182ch_30min_slit2_emi620_3minAr.csv',\n",
       " '1909_LIFETIME_AAN155_EPL375_50KHz_20micro_9182ch_30min_slit2_emi620_3minAr.FL',\n",
       " '1909_LIFETIME_AAN155_EPL375_50KHz_20micro_9182ch_30min_slit2_emi620_3minAr.txt',\n",
       " '1909_LIFETIME_AAN155_EPL375_50KHz_20micro_9182ch_30min_slit2_emi620_3minAr.wmf',\n",
       " '1909_LIFETIME_AAN155_EPL375_50KHz_20micro_9182ch_30min_slit2_emi620_4minAr.csv',\n",
       " '1909_LIFETIME_AAN155_EPL375_50KHz_20micro_9182ch_30min_slit2_emi620_4minAr.FL',\n",
       " '1909_LIFETIME_AAN155_EPL375_50KHz_20micro_9182ch_30min_slit2_emi620_4minAr.txt',\n",
       " '1909_LIFETIME_AAN155_EPL375_50KHz_20micro_9182ch_30min_slit2_emi620_4minAr.wmf',\n",
       " '1909_LIFETIME_AAN155_EPL375_50KHz_20micro_9182ch_30min_slit2_emi620_5minAr.csv',\n",
       " '1909_LIFETIME_AAN155_EPL375_50KHz_20micro_9182ch_30min_slit2_emi620_5minAr.FL',\n",
       " '1909_LIFETIME_AAN155_EPL375_50KHz_20micro_9182ch_30min_slit2_emi620_5minAr.txt',\n",
       " '1909_LIFETIME_AAN155_EPL375_50KHz_20micro_9182ch_30min_slit2_emi620_5minAr.wmf',\n",
       " '1909_LIFETIME_AAN155_EPL375_50KHz_20micro_9182ch_30min_slit2_emi620_ALL.CSV',\n",
       " '1909_LIFETIME_AAN155_EPL375_50KHz_20micro_9182ch_30min_slit2_emi620_ALL.FL',\n",
       " '1909_LIFETIME_AAN155_EPL375_50KHz_20micro_9182ch_30min_slit2_emi620_ALL.xlsx',\n",
       " '1909_LIFETIME_comparison_AAN155_EPL375_50KHz_20micro_9182ch_30min_slit2_emi620.xlsx',\n",
       " '1909_ZFFL55_AAN155_1E-5_ACN_exc375comparison free bound.xlsx',\n",
       " '1909_ZFFL55_AAN155_1E-5_ACN_exc375_1minAr.csv',\n",
       " '1909_ZFFL55_AAN155_1E-5_ACN_exc375_1minAr.FS',\n",
       " '1909_ZFFL55_AAN155_1E-5_ACN_exc375_1minAr.txt',\n",
       " '1909_ZFFL55_AAN155_1E-5_ACN_exc375_1minAr.wmf',\n",
       " '1909_ZFFL55_AAN155_1E-5_ACN_exc375_2minAr.csv',\n",
       " '1909_ZFFL55_AAN155_1E-5_ACN_exc375_2minAr.FS',\n",
       " '1909_ZFFL55_AAN155_1E-5_ACN_exc375_2minAr.txt',\n",
       " '1909_ZFFL55_AAN155_1E-5_ACN_exc375_2minAr.wmf',\n",
       " '1909_ZFFL55_AAN155_1E-5_ACN_exc375_3minAr.csv',\n",
       " '1909_ZFFL55_AAN155_1E-5_ACN_exc375_3minAr.FS',\n",
       " '1909_ZFFL55_AAN155_1E-5_ACN_exc375_3minAr.txt',\n",
       " '1909_ZFFL55_AAN155_1E-5_ACN_exc375_3minAr.wmf',\n",
       " '1909_ZFFL55_AAN155_1E-5_ACN_exc375_4minAr.csv',\n",
       " '1909_ZFFL55_AAN155_1E-5_ACN_exc375_4minAr.FS',\n",
       " '1909_ZFFL55_AAN155_1E-5_ACN_exc375_4minAr.txt',\n",
       " '1909_ZFFL55_AAN155_1E-5_ACN_exc375_4minAr.wmf',\n",
       " '1909_ZFFL55_AAN155_1E-5_ACN_exc375_5minAr.csv',\n",
       " '1909_ZFFL55_AAN155_1E-5_ACN_exc375_5minAr.FS',\n",
       " '1909_ZFFL55_AAN155_1E-5_ACN_exc375_5minAr.txt',\n",
       " '1909_ZFFL55_AAN155_1E-5_ACN_exc375_5minAr.wmf',\n",
       " '1909_ZFFL55_AAN155_1E-5_ACN_exc375_ALL.CSV',\n",
       " '1909_ZFFL55_AAN155_1E-5_ACN_exc375_ALL.FS',\n",
       " '1909_ZFFL55_AAN155_1E-5_ACN_exc375_ALL.xlsx',\n",
       " '1909_ZFFL55_AAN155_1E-5_ACN_exc375_Ba_ALL.xlsx',\n",
       " '1909_ZFFL55_AAN155_1E-5_ACN_exc375_O2.csv',\n",
       " '1909_ZFFL55_AAN155_1E-5_ACN_exc375_O2.FS',\n",
       " '1909_ZFFL55_AAN155_1E-5_ACN_exc375_O2.txt',\n",
       " '1909_ZFFL55_AAN155_1E-5_ACN_exc375_O2.wmf',\n",
       " '2109_FIT_LIFETIME_AAN155_EPL375_50KHz_20micro_9182ch_30min_slit2_emi620_Ba_5min.FL',\n",
       " '2109_LIFETIME_AAN155_EPL375_50KHz_20micro_9182ch_30min_slit2_emi502_2nigths.csv',\n",
       " '2109_LIFETIME_AAN155_EPL375_50KHz_20micro_9182ch_30min_slit2_emi502_2nigths.FL',\n",
       " '2109_LIFETIME_AAN155_EPL375_50KHz_20micro_9182ch_30min_slit2_emi502_2nigths.txt',\n",
       " '2109_LIFETIME_AAN155_EPL375_50KHz_20micro_9182ch_30min_slit2_emi502_2nigths.wmf',\n",
       " '2109_LIFETIME_AAN155_EPL375_50KHz_20micro_9182ch_30min_slit2_emi502_Ba_1min.csv',\n",
       " '2109_LIFETIME_AAN155_EPL375_50KHz_20micro_9182ch_30min_slit2_emi502_Ba_1min.FL',\n",
       " '2109_LIFETIME_AAN155_EPL375_50KHz_20micro_9182ch_30min_slit2_emi502_Ba_1min.txt',\n",
       " '2109_LIFETIME_AAN155_EPL375_50KHz_20micro_9182ch_30min_slit2_emi502_Ba_1min.wmf',\n",
       " '2109_LIFETIME_AAN155_EPL375_50KHz_20micro_9182ch_30min_slit2_emi502_Ba_2min.csv',\n",
       " '2109_LIFETIME_AAN155_EPL375_50KHz_20micro_9182ch_30min_slit2_emi502_Ba_2min.FL',\n",
       " '2109_LIFETIME_AAN155_EPL375_50KHz_20micro_9182ch_30min_slit2_emi502_Ba_2min.txt',\n",
       " '2109_LIFETIME_AAN155_EPL375_50KHz_20micro_9182ch_30min_slit2_emi502_Ba_2min.wmf',\n",
       " '2109_LIFETIME_AAN155_EPL375_50KHz_20micro_9182ch_30min_slit2_emi502_Ba_3min.csv',\n",
       " '2109_LIFETIME_AAN155_EPL375_50KHz_20micro_9182ch_30min_slit2_emi502_Ba_3min.FL',\n",
       " '2109_LIFETIME_AAN155_EPL375_50KHz_20micro_9182ch_30min_slit2_emi502_Ba_3min.txt',\n",
       " '2109_LIFETIME_AAN155_EPL375_50KHz_20micro_9182ch_30min_slit2_emi502_Ba_3min.wmf',\n",
       " '2109_LIFETIME_AAN155_EPL375_50KHz_20micro_9182ch_30min_slit2_emi502_Ba_4min.csv',\n",
       " '2109_LIFETIME_AAN155_EPL375_50KHz_20micro_9182ch_30min_slit2_emi502_Ba_4min.FL',\n",
       " '2109_LIFETIME_AAN155_EPL375_50KHz_20micro_9182ch_30min_slit2_emi502_Ba_4min.txt',\n",
       " '2109_LIFETIME_AAN155_EPL375_50KHz_20micro_9182ch_30min_slit2_emi502_Ba_4min.wmf',\n",
       " '2109_LIFETIME_AAN155_EPL375_50KHz_20micro_9182ch_30min_slit2_emi502_Ba_5min.csv',\n",
       " '2109_LIFETIME_AAN155_EPL375_50KHz_20micro_9182ch_30min_slit2_emi502_Ba_5min.FL',\n",
       " '2109_LIFETIME_AAN155_EPL375_50KHz_20micro_9182ch_30min_slit2_emi502_Ba_5min.txt',\n",
       " '2109_LIFETIME_AAN155_EPL375_50KHz_20micro_9182ch_30min_slit2_emi502_Ba_5min.wmf',\n",
       " '2109_LIFETIME_AAN155_EPL375_50KHz_20micro_9182ch_30min_slit2_emi502_Ba_ALL.CSV',\n",
       " '2109_LIFETIME_AAN155_EPL375_50KHz_20micro_9182ch_30min_slit2_emi502_Ba_ALL.FL',\n",
       " '2109_LIFETIME_AAN155_EPL375_50KHz_20micro_9182ch_30min_slit2_emi502_Ba_last.csv',\n",
       " '2109_LIFETIME_AAN155_EPL375_50KHz_20micro_9182ch_30min_slit2_emi502_Ba_last.FL',\n",
       " '2109_LIFETIME_AAN155_EPL375_50KHz_20micro_9182ch_30min_slit2_emi502_Ba_last.txt',\n",
       " '2109_LIFETIME_AAN155_EPL375_50KHz_20micro_9182ch_30min_slit2_emi502_Ba_last.wmf',\n",
       " '2109_LIFETIME_AAN155_EPL375_50KHz_20micro_9182ch_30min_slit2_emi502_Ba_O2.csv',\n",
       " '2109_LIFETIME_AAN155_EPL375_50KHz_20micro_9182ch_30min_slit2_emi502_Ba_O2.FL',\n",
       " '2109_LIFETIME_AAN155_EPL375_50KHz_20micro_9182ch_30min_slit2_emi502_Ba_O2.txt',\n",
       " '2109_LIFETIME_AAN155_EPL375_50KHz_20micro_9182ch_30min_slit2_emi502_Ba_O2.wmf',\n",
       " '2109_LIFETIME_AAN155_EPL375_50KHz_20micro_9182ch_30min_slit2_emi620_2nigths.csv',\n",
       " '2109_LIFETIME_AAN155_EPL375_50KHz_20micro_9182ch_30min_slit2_emi620_2nigths.FL',\n",
       " '2109_LIFETIME_AAN155_EPL375_50KHz_20micro_9182ch_30min_slit2_emi620_2nigths.txt',\n",
       " '2109_LIFETIME_AAN155_EPL375_50KHz_20micro_9182ch_30min_slit2_emi620_2nigths.wmf',\n",
       " '2109_LIFETIME_AAN155_EPL375_50KHz_20micro_9182ch_30min_slit2_emi620_Ba_1min.csv',\n",
       " '2109_LIFETIME_AAN155_EPL375_50KHz_20micro_9182ch_30min_slit2_emi620_Ba_1min.FL',\n",
       " '2109_LIFETIME_AAN155_EPL375_50KHz_20micro_9182ch_30min_slit2_emi620_Ba_1min.txt',\n",
       " '2109_LIFETIME_AAN155_EPL375_50KHz_20micro_9182ch_30min_slit2_emi620_Ba_1min.wmf',\n",
       " '2109_LIFETIME_AAN155_EPL375_50KHz_20micro_9182ch_30min_slit2_emi620_Ba_2min.csv',\n",
       " '2109_LIFETIME_AAN155_EPL375_50KHz_20micro_9182ch_30min_slit2_emi620_Ba_2min.FL',\n",
       " '2109_LIFETIME_AAN155_EPL375_50KHz_20micro_9182ch_30min_slit2_emi620_Ba_2min.txt',\n",
       " '2109_LIFETIME_AAN155_EPL375_50KHz_20micro_9182ch_30min_slit2_emi620_Ba_2min.wmf',\n",
       " '2109_LIFETIME_AAN155_EPL375_50KHz_20micro_9182ch_30min_slit2_emi620_Ba_3min.csv',\n",
       " '2109_LIFETIME_AAN155_EPL375_50KHz_20micro_9182ch_30min_slit2_emi620_Ba_3min.FL',\n",
       " '2109_LIFETIME_AAN155_EPL375_50KHz_20micro_9182ch_30min_slit2_emi620_Ba_3min.txt',\n",
       " '2109_LIFETIME_AAN155_EPL375_50KHz_20micro_9182ch_30min_slit2_emi620_Ba_3min.wmf',\n",
       " '2109_LIFETIME_AAN155_EPL375_50KHz_20micro_9182ch_30min_slit2_emi620_Ba_4min.csv',\n",
       " '2109_LIFETIME_AAN155_EPL375_50KHz_20micro_9182ch_30min_slit2_emi620_Ba_4min.FL',\n",
       " '2109_LIFETIME_AAN155_EPL375_50KHz_20micro_9182ch_30min_slit2_emi620_Ba_4min.txt',\n",
       " '2109_LIFETIME_AAN155_EPL375_50KHz_20micro_9182ch_30min_slit2_emi620_Ba_4min.wmf',\n",
       " '2109_LIFETIME_AAN155_EPL375_50KHz_20micro_9182ch_30min_slit2_emi620_Ba_5min.csv',\n",
       " '2109_LIFETIME_AAN155_EPL375_50KHz_20micro_9182ch_30min_slit2_emi620_Ba_5min.FL',\n",
       " '2109_LIFETIME_AAN155_EPL375_50KHz_20micro_9182ch_30min_slit2_emi620_Ba_5min.txt',\n",
       " '2109_LIFETIME_AAN155_EPL375_50KHz_20micro_9182ch_30min_slit2_emi620_Ba_5min.wmf',\n",
       " '2109_LIFETIME_AAN155_EPL375_50KHz_20micro_9182ch_30min_slit2_emi620_Ba_last.csv',\n",
       " '2109_LIFETIME_AAN155_EPL375_50KHz_20micro_9182ch_30min_slit2_emi620_Ba_last.FL',\n",
       " '2109_LIFETIME_AAN155_EPL375_50KHz_20micro_9182ch_30min_slit2_emi620_Ba_last.txt',\n",
       " '2109_LIFETIME_AAN155_EPL375_50KHz_20micro_9182ch_30min_slit2_emi620_Ba_last.wmf',\n",
       " '2109_LIFETIME_AAN155_EPL375_50KHz_20micro_9182ch_30min_slit2_emi620_Ba_O2.csv',\n",
       " '2109_LIFETIME_AAN155_EPL375_50KHz_20micro_9182ch_30min_slit2_emi620_Ba_O2.FL',\n",
       " '2109_LIFETIME_AAN155_EPL375_50KHz_20micro_9182ch_30min_slit2_emi620_Ba_O2.txt',\n",
       " '2109_LIFETIME_AAN155_EPL375_50KHz_20micro_9182ch_30min_slit2_emi620_Ba_O2.wmf',\n",
       " '2109_ZFFL55_AAN155_1E-5_ACN_exc375_2nights.csv',\n",
       " '2109_ZFFL55_AAN155_1E-5_ACN_exc375_2nights.FS',\n",
       " '2109_ZFFL55_AAN155_1E-5_ACN_exc375_2nights.txt',\n",
       " '2109_ZFFL55_AAN155_1E-5_ACN_exc375_2nights.wmf',\n",
       " '2109_ZFFL55_AAN155_1E-5_ACN_exc375_Ba_1min.csv',\n",
       " '2109_ZFFL55_AAN155_1E-5_ACN_exc375_Ba_1min.FS',\n",
       " '2109_ZFFL55_AAN155_1E-5_ACN_exc375_Ba_1min.txt',\n",
       " '2109_ZFFL55_AAN155_1E-5_ACN_exc375_Ba_1min.wmf',\n",
       " '2109_ZFFL55_AAN155_1E-5_ACN_exc375_Ba_2min.csv',\n",
       " '2109_ZFFL55_AAN155_1E-5_ACN_exc375_Ba_2min.FS',\n",
       " '2109_ZFFL55_AAN155_1E-5_ACN_exc375_Ba_2min.txt',\n",
       " '2109_ZFFL55_AAN155_1E-5_ACN_exc375_Ba_2min.wmf',\n",
       " '2109_ZFFL55_AAN155_1E-5_ACN_exc375_Ba_3min.csv',\n",
       " '2109_ZFFL55_AAN155_1E-5_ACN_exc375_Ba_3min.FS',\n",
       " '2109_ZFFL55_AAN155_1E-5_ACN_exc375_Ba_3min.txt',\n",
       " '2109_ZFFL55_AAN155_1E-5_ACN_exc375_Ba_3min.wmf',\n",
       " '2109_ZFFL55_AAN155_1E-5_ACN_exc375_Ba_4min.csv',\n",
       " '2109_ZFFL55_AAN155_1E-5_ACN_exc375_Ba_4min.FS',\n",
       " '2109_ZFFL55_AAN155_1E-5_ACN_exc375_Ba_4min.txt',\n",
       " '2109_ZFFL55_AAN155_1E-5_ACN_exc375_Ba_4min.wmf',\n",
       " '2109_ZFFL55_AAN155_1E-5_ACN_exc375_Ba_5min.csv',\n",
       " '2109_ZFFL55_AAN155_1E-5_ACN_exc375_Ba_5min.FS',\n",
       " '2109_ZFFL55_AAN155_1E-5_ACN_exc375_Ba_5min.txt',\n",
       " '2109_ZFFL55_AAN155_1E-5_ACN_exc375_Ba_5min.wmf',\n",
       " '2109_ZFFL55_AAN155_1E-5_ACN_exc375_Ba_ALL.CSV',\n",
       " '2109_ZFFL55_AAN155_1E-5_ACN_exc375_Ba_ALL.FS',\n",
       " '2109_ZFFL55_AAN155_1E-5_ACN_exc375_Ba_last.csv',\n",
       " '2109_ZFFL55_AAN155_1E-5_ACN_exc375_Ba_last.FS',\n",
       " '2109_ZFFL55_AAN155_1E-5_ACN_exc375_Ba_last.txt',\n",
       " '2109_ZFFL55_AAN155_1E-5_ACN_exc375_Ba_last.wmf',\n",
       " '2109_ZFFL55_AAN155_1E-5_ACN_exc375_Ba_O2.csv',\n",
       " '2109_ZFFL55_AAN155_1E-5_ACN_exc375_Ba_O2.FS',\n",
       " '2109_ZFFL55_AAN155_1E-5_ACN_exc375_Ba_O2.txt',\n",
       " '2109_ZFFL55_AAN155_1E-5_ACN_exc375_Ba_O2.wmf']"
      ]
     },
     "execution_count": 16,
     "metadata": {},
     "output_type": "execute_result"
    }
   ],
   "source": [
    "fBa='./Data/Zoraida/ZFFL_55_AAN155_ACN/19-09-2023/'\n",
    "\n",
    "fFree='./Data/Zoraida/ZFFL_55_AAN155_ACN/LIFETIME_AAN155_EPL375_50KHz_20micro_9182ch_5min_slit3_emi620.csv'\n",
    "os.listdir(fBa)"
   ]
  },
  {
   "cell_type": "code",
   "execution_count": 10,
   "id": "5e7f2c31",
   "metadata": {},
   "outputs": [
    {
     "ename": "PermissionError",
     "evalue": "[Errno 13] Permission denied: './Data/Zoraida/ZFFL_55_AAN155_ACN/'",
     "output_type": "error",
     "traceback": [
      "\u001b[1;31m---------------------------------------------------------------------------\u001b[0m",
      "\u001b[1;31mPermissionError\u001b[0m                           Traceback (most recent call last)",
      "Cell \u001b[1;32mIn[10], line 1\u001b[0m\n\u001b[1;32m----> 1\u001b[0m tBa,cBa\u001b[38;5;241m=\u001b[39mreadZoraidasCSV(fBa)\n\u001b[0;32m      2\u001b[0m tFree,cFree\u001b[38;5;241m=\u001b[39mreadZoraidasCSV(fFree)\n\u001b[0;32m      3\u001b[0m tBa\u001b[38;5;241m=\u001b[39mtBa\u001b[38;5;241m-\u001b[39m\u001b[38;5;241m90\u001b[39m\n",
      "File \u001b[1;32m~\\Documents\\MIKEL\\Git Workspaces\\Data-analysis\\Narrow field\\Functions.py:6\u001b[0m, in \u001b[0;36mreadZoraidasCSV\u001b[1;34m(filename)\u001b[0m\n\u001b[0;32m      4\u001b[0m counts\u001b[38;5;241m=\u001b[39mnp\u001b[38;5;241m.\u001b[39marray([])\n\u001b[0;32m      5\u001b[0m time\u001b[38;5;241m=\u001b[39mnp\u001b[38;5;241m.\u001b[39marray([])\n\u001b[1;32m----> 6\u001b[0m file\u001b[38;5;241m=\u001b[39m\u001b[38;5;28mopen\u001b[39m(filename)\n\u001b[0;32m      7\u001b[0m line\u001b[38;5;241m=\u001b[39mfile\u001b[38;5;241m.\u001b[39mreadline()\n\u001b[0;32m      8\u001b[0m \u001b[38;5;28;01mwhile\u001b[39;00m line\u001b[38;5;241m!=\u001b[39m\u001b[38;5;124m'\u001b[39m\u001b[38;5;130;01m\\n\u001b[39;00m\u001b[38;5;124m'\u001b[39m:\n",
      "\u001b[1;31mPermissionError\u001b[0m: [Errno 13] Permission denied: './Data/Zoraida/ZFFL_55_AAN155_ACN/'"
     ]
    }
   ],
   "source": [
    "tBa,cBa=readZoraidasCSV(fBa)\n",
    "tFree,cFree=readZoraidasCSV(fFree)\n",
    "tBa=tBa-90\n",
    "tFree=tFree-90"
   ]
  },
  {
   "cell_type": "code",
   "execution_count": 8,
   "id": "1b3b3694",
   "metadata": {},
   "outputs": [
    {
     "data": {
      "image/png": "[encoded data removed]",
      "text/plain": [
       "<Figure size 640x480 with 1 Axes>"
      ]
     },
     "metadata": {},
     "output_type": "display_data"
    }
   ],
   "source": [
    "plt.plot(tFree,cFree)\n",
    "plt.plot(tBa,cBa)\n",
    "plt.yscale('log')"
   ]
  },
  {
   "cell_type": "code",
   "execution_count": 18,
   "id": "ce935913",
   "metadata": {},
   "outputs": [
    {
     "name": "stderr",
     "output_type": "stream",
     "text": [
      "No artists with labels found to put in legend.  Note that artists whose label start with an underscore are ignored when legend() is called with no argument.\n"
     ]
    },
    {
     "data": {
      "image/png": "[encoded data removed]",
      "text/plain": [
       "<Figure size 640x480 with 1 Axes>"
      ]
     },
     "metadata": {},
     "output_type": "display_data"
    }
   ],
   "source": [
    "cumulba=cumulative(cBa[:len(cFree)//5])\n",
    "cumulf=cumulative(cFree[:len(cFree)//5])\n",
    "plt.plot(tBa[:len(cFree)//5],cumulba/cumulf)\n",
    "plt.xlabel('Time gate (ns)')\n",
    "plt.ylabel('$\\int_{T_0}^{T_f} Counts(Ba)/Counts(Free)$')\n",
    "plt.legend()\n",
    "#plt.savefig('Discr.png')"
   ]
  },
  {
   "cell_type": "code",
   "execution_count": 12,
   "id": "07a6cc0e",
   "metadata": {},
   "outputs": [
    {
     "data": {
      "text/plain": [
       "8192"
      ]
     },
     "execution_count": 12,
     "metadata": {},
     "output_type": "execute_result"
    }
   ],
   "source": [
    "len(cFree)"
   ]
  },
  {
   "cell_type": "code",
   "execution_count": null,
   "id": "99064831",
   "metadata": {},
   "outputs": [],
   "source": []
  }
 ],
 "metadata": {
  "kernelspec": {
   "display_name": "Python 3 (ipykernel)",
   "language": "python",
   "name": "python3"
  },
  "language_info": {
   "codemirror_mode": {
    "name": "ipython",
    "version": 3
   },
   "file_extension": ".py",
   "mimetype": "text/x-python",
   "name": "python",
   "nbconvert_exporter": "python",
   "pygments_lexer": "ipython3",
   "version": "3.11.4"
  },
  "toc": {
   "base_numbering": 1,
   "nav_menu": {},
   "number_sections": true,
   "sideBar": true,
   "skip_h1_title": false,
   "title_cell": "Table of Contents",
   "title_sidebar": "Contents",
   "toc_cell": false,
   "toc_position": {},
   "toc_section_display": true,
   "toc_window_display": false
  }
 },
 "nbformat": 4,
 "nbformat_minor": 5
}
