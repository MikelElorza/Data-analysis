{
 "cells": [
  {
   "cell_type": "code",
   "execution_count": 13,
   "id": "c17f854d",
   "metadata": {},
   "outputs": [],
   "source": [
    "import numpy as np\n",
    "import matplotlib.pyplot as plt\n",
    "import os\n",
    "import sys\n",
    "import threading\n",
    "from snAPI.Main import *\n",
    "import pandas as pd\n",
    "sys.path.append(\"../\")\n",
    "from HH import HH_T3\n",
    "from Functions import *"
   ]
  },
  {
   "cell_type": "code",
   "execution_count": 44,
   "id": "1de68807",
   "metadata": {},
   "outputs": [],
   "source": [
    "def GetPos(filename):\n",
    "    parts=filename[:-4].split('_')\n",
    "    x=float(parts[1])\n",
    "    y=float(parts[2])\n",
    "    return x,y\n",
    "def GetGatedCounts(filename,T,x,y,arr):\n",
    "    sn.getDevice()\n",
    "    sn.getFileDevice(filename)\n",
    "    sn.raw.measure()\n",
    "    data = sn.raw.getData()\n",
    "    channels=sn.raw.channel(data)\n",
    "    dTimes=sn.raw.dTime_T3(data)[np.where(channels==3)]*t_resol\n",
    "    sn.closeDevice()\n",
    "    arr=np.vstack((arr,[x,y,np.size(dTimes)]))\n",
    "    return True"
   ]
  },
  {
   "cell_type": "code",
   "execution_count": 45,
   "id": "176e7f64",
   "metadata": {},
   "outputs": [],
   "source": [
    "def ImageData(pathtoPTUs,gate):\n",
    "    threads = []   \n",
    "    arr=np.array([0,0,0])\n",
    "    for file in os.listdir(pathtoPTUs):\n",
    "        if file[0:3]=='PTU':\n",
    "            x,y=GetPos(file)\n",
    "            threads.append(                                                        \n",
    "            threading.Thread(target=GetGatedCounts, args=(pathtoPTUs+file, gate,x,y,arr)) )   \n",
    "            threads[-1].start() # start the thread we just created \n",
    "    for t in threads:                                                           \n",
    "        t.join()                 \n",
    "    arr=np.delete(arr,0,0)\n",
    "    return arr"
   ]
  },
  {
   "cell_type": "code",
   "execution_count": 16,
   "id": "42a44cb3",
   "metadata": {},
   "outputs": [
    {
     "ename": "NotADirectoryError",
     "evalue": "[WinError 267] The directory name is invalid: '../../../Acquisition/Acquisition2/Data/Trial/PTU_-0.22_-0.22.ptu'",
     "output_type": "error",
     "traceback": [
      "\u001b[1;31m---------------------------------------------------------------------------\u001b[0m",
      "\u001b[1;31mNotADirectoryError\u001b[0m                        Traceback (most recent call last)",
      "\u001b[1;32mc:\\Users\\Mikel\\Documents\\Data analysis\\Narrow field\\Imaging\\Pruebas_threads.ipynb Cell 4\u001b[0m line \u001b[0;36m2\n\u001b[0;32m      <a href='vscode-notebook-cell:/c%3A/Users/Mikel/Documents/Data%20analysis/Narrow%20field/Imaging/Pruebas_threads.ipynb#W3sZmlsZQ%3D%3D?line=0'>1</a>\u001b[0m filename\u001b[39m=\u001b[39m\u001b[39m'\u001b[39m\u001b[39m../../../Acquisition/Acquisition2/Data/Trial/PTU_-0.22_-0.22.ptu\u001b[39m\u001b[39m'\u001b[39m\n\u001b[1;32m----> <a href='vscode-notebook-cell:/c%3A/Users/Mikel/Documents/Data%20analysis/Narrow%20field/Imaging/Pruebas_threads.ipynb#W3sZmlsZQ%3D%3D?line=1'>2</a>\u001b[0m os\u001b[39m.\u001b[39mlistdir(filename)\n",
      "\u001b[1;31mNotADirectoryError\u001b[0m: [WinError 267] The directory name is invalid: '../../../Acquisition/Acquisition2/Data/Trial/PTU_-0.22_-0.22.ptu'"
     ]
    }
   ],
   "source": [
    "filename='../../../Acquisition/Acquisition2/Data/Trial/PTU_-0.22_-0.22.ptu'\n",
    "os.listdir(filename)"
   ]
  },
  {
   "cell_type": "code",
   "execution_count": 17,
   "id": "5f4ce169",
   "metadata": {},
   "outputs": [],
   "source": [
    "sn=snAPI()"
   ]
  },
  {
   "cell_type": "code",
   "execution_count": 18,
   "id": "3a00cb44",
   "metadata": {},
   "outputs": [],
   "source": [
    "sn.getFileDevice(filename)\n",
    "sn.initDevice(MeasMode.T3)\n",
    "t_resol=sn.deviceConfig['Resolution']/1000 #in ns\n",
    "sn.raw.measure()\n",
    "data= sn.raw.getData()\n",
    "\n",
    "sn.closeDevice()"
   ]
  },
  {
   "cell_type": "code",
   "execution_count": 19,
   "id": "f6eb48b3",
   "metadata": {},
   "outputs": [],
   "source": [
    "sn.closeDevice()"
   ]
  },
  {
   "cell_type": "code",
   "execution_count": 20,
   "id": "79c87047",
   "metadata": {},
   "outputs": [
    {
     "data": {
      "text/plain": [
       "(396778,)"
      ]
     },
     "execution_count": 20,
     "metadata": {},
     "output_type": "execute_result"
    }
   ],
   "source": [
    "np.shape(data)"
   ]
  },
  {
   "cell_type": "code",
   "execution_count": 40,
   "id": "725a06a2",
   "metadata": {},
   "outputs": [],
   "source": [
    "pathtoPTUs='../../../Acquisition/Acquisition2/Data/Trial/'"
   ]
  },
  {
   "cell_type": "code",
   "execution_count": 41,
   "id": "99d1023a",
   "metadata": {},
   "outputs": [],
   "source": [
    "#os.listdir('../../../Acquisition/Acquisition2/Data/Trial/')"
   ]
  },
  {
   "cell_type": "code",
   "execution_count": 46,
   "id": "3df4517f",
   "metadata": {},
   "outputs": [
    {
     "ename": "",
     "evalue": "",
     "output_type": "error",
     "traceback": [
      "\u001b[1;31mThe Kernel crashed while executing code in the the current cell or a previous cell. Please review the code in the cell(s) to identify a possible cause of the failure. Click <a href='https://aka.ms/vscodeJupyterKernelCrash'>here</a> for more info. View Jupyter <a href='command:jupyter.viewOutput'>log</a> for further details."
     ]
    }
   ],
   "source": [
    "d=ImageData(pathtoPTUs,0)"
   ]
  },
  {
   "cell_type": "code",
   "execution_count": 43,
   "id": "cb8aa4f0",
   "metadata": {},
   "outputs": [
    {
     "ename": "IndexError",
     "evalue": "invalid index to scalar variable.",
     "output_type": "error",
     "traceback": [
      "\u001b[1;31m---------------------------------------------------------------------------\u001b[0m",
      "\u001b[1;31mIndexError\u001b[0m                                Traceback (most recent call last)",
      "\u001b[1;32mc:\\Users\\Mikel\\Documents\\Data analysis\\Narrow field\\Imaging\\Pruebas_threads.ipynb Cell 12\u001b[0m line \u001b[0;36m5\n\u001b[0;32m      <a href='vscode-notebook-cell:/c%3A/Users/Mikel/Documents/Data%20analysis/Narrow%20field/Imaging/Pruebas_threads.ipynb#X16sZmlsZQ%3D%3D?line=2'>3</a>\u001b[0m m\u001b[39m=\u001b[39mnp\u001b[39m.\u001b[39mzeros((np\u001b[39m.\u001b[39msize(xs),np\u001b[39m.\u001b[39msize(ys)))\n\u001b[0;32m      <a href='vscode-notebook-cell:/c%3A/Users/Mikel/Documents/Data%20analysis/Narrow%20field/Imaging/Pruebas_threads.ipynb#X16sZmlsZQ%3D%3D?line=3'>4</a>\u001b[0m \u001b[39mfor\u001b[39;00m point \u001b[39min\u001b[39;00m d:\n\u001b[1;32m----> <a href='vscode-notebook-cell:/c%3A/Users/Mikel/Documents/Data%20analysis/Narrow%20field/Imaging/Pruebas_threads.ipynb#X16sZmlsZQ%3D%3D?line=4'>5</a>\u001b[0m     ind_x\u001b[39m=\u001b[39mnp\u001b[39m.\u001b[39mwhere(xs\u001b[39m==\u001b[39mpoint[\u001b[39m0\u001b[39m])[\u001b[39m0\u001b[39m][\u001b[39m0\u001b[39m]\n\u001b[0;32m      <a href='vscode-notebook-cell:/c%3A/Users/Mikel/Documents/Data%20analysis/Narrow%20field/Imaging/Pruebas_threads.ipynb#X16sZmlsZQ%3D%3D?line=5'>6</a>\u001b[0m     ind_y\u001b[39m=\u001b[39mnp\u001b[39m.\u001b[39mwhere(ys\u001b[39m==\u001b[39mpoint[\u001b[39m1\u001b[39m])[\u001b[39m0\u001b[39m][\u001b[39m0\u001b[39m]\n\u001b[0;32m      <a href='vscode-notebook-cell:/c%3A/Users/Mikel/Documents/Data%20analysis/Narrow%20field/Imaging/Pruebas_threads.ipynb#X16sZmlsZQ%3D%3D?line=6'>7</a>\u001b[0m     m[ind_x,ind_y]\u001b[39m=\u001b[39mpoint[\u001b[39m2\u001b[39m]\n",
      "\u001b[1;31mIndexError\u001b[0m: invalid index to scalar variable."
     ]
    }
   ],
   "source": [
    "xs=np.unique(d.T[0])\n",
    "ys=np.unique(d.T[1])\n",
    "m=np.zeros((np.size(xs),np.size(ys)))\n",
    "for point in d:\n",
    "    ind_x=np.where(xs==point[0])[0][0]\n",
    "    ind_y=np.where(ys==point[1])[0][0]\n",
    "    m[ind_x,ind_y]=point[2]   "
   ]
  },
  {
   "cell_type": "code",
   "execution_count": 8,
   "id": "e9a5c9a7",
   "metadata": {},
   "outputs": [
    {
     "ename": "NameError",
     "evalue": "name 'plt' is not defined",
     "output_type": "error",
     "traceback": [
      "\u001b[1;31m---------------------------------------------------------------------------\u001b[0m",
      "\u001b[1;31mNameError\u001b[0m                                 Traceback (most recent call last)",
      "\u001b[1;32mc:\\Users\\Mikel\\Documents\\Data analysis\\Narrow field\\Imaging\\Pruebas_threads.ipynb Cell 13\u001b[0m line \u001b[0;36m1\n\u001b[1;32m----> <a href='vscode-notebook-cell:/c%3A/Users/Mikel/Documents/Data%20analysis/Narrow%20field/Imaging/Pruebas_threads.ipynb#X20sZmlsZQ%3D%3D?line=0'>1</a>\u001b[0m plt\u001b[39m.\u001b[39mimshow(m)\n",
      "\u001b[1;31mNameError\u001b[0m: name 'plt' is not defined"
     ]
    }
   ],
   "source": [
    "plt.imshow(m)"
   ]
  },
  {
   "cell_type": "code",
   "execution_count": null,
   "id": "a9cb3d7b",
   "metadata": {},
   "outputs": [],
   "source": []
  }
 ],
 "metadata": {
  "kernelspec": {
   "display_name": "Python 3 (ipykernel)",
   "language": "python",
   "name": "python3"
  },
  "language_info": {
   "codemirror_mode": {
    "name": "ipython",
    "version": 3
   },
   "file_extension": ".py",
   "mimetype": "text/x-python",
   "name": "python",
   "nbconvert_exporter": "python",
   "pygments_lexer": "ipython3",
   "version": "3.11.4"
  },
  "toc": {
   "base_numbering": 1,
   "nav_menu": {},
   "number_sections": true,
   "sideBar": true,
   "skip_h1_title": false,
   "title_cell": "Table of Contents",
   "title_sidebar": "Contents",
   "toc_cell": false,
   "toc_position": {},
   "toc_section_display": true,
   "toc_window_display": false
  }
 },
 "nbformat": 4,
 "nbformat_minor": 5
}
