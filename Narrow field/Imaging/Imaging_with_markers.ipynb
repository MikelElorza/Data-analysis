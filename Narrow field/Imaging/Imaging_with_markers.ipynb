{
 "cells": [
  {
   "cell_type": "code",
   "execution_count": 14,
   "metadata": {},
   "outputs": [],
   "source": [
    "import numpy as np\n",
    "import matplotlib.pyplot as plt\n",
    "import os\n",
    "import sys\n",
    "from snAPI.Main import *\n",
    "import pandas as pd\n",
    "sys.path.append(\"../\")\n",
    "from HH import HH_T3\n",
    "from Functions import *\n",
    "import time"
   ]
  },
  {
   "cell_type": "code",
   "execution_count": 15,
   "metadata": {},
   "outputs": [],
   "source": [
    "def getcols(m1,nrows):\n",
    "    arr=np.array([])\n",
    "    for elem in np.cumsum(m1):\n",
    "        rest=elem%(nrows)\n",
    "        inte=elem//(nrows)\n",
    "        if inte%2==1:\n",
    "            a=nrows-rest\n",
    "        else:\n",
    "            a=rest \n",
    "        arr=np.append(arr,a)       \n",
    "    return arr\n",
    "\n",
    "f=lambda x : nrows-x%(nrows) if x//(nrows)%2==1 else x%(nrows)"
   ]
  },
  {
   "cell_type": "code",
   "execution_count": 16,
   "metadata": {},
   "outputs": [
    {
     "ename": "NotADirectoryError",
     "evalue": "[WinError 267] El nombre del directorio no es válido: '../../../Acquisition2/Data/Trial_markers_QD/T/PTU_9.ptu'",
     "output_type": "error",
     "traceback": [
      "\u001b[1;31m---------------------------------------------------------------------------\u001b[0m",
      "\u001b[1;31mNotADirectoryError\u001b[0m                        Traceback (most recent call last)",
      "Cell \u001b[1;32mIn[16], line 2\u001b[0m\n\u001b[0;32m      1\u001b[0m filename\u001b[38;5;241m=\u001b[39m\u001b[38;5;124m'\u001b[39m\u001b[38;5;124m../../../Acquisition2/Data/Trial_markers_QD/T/PTU_9.ptu\u001b[39m\u001b[38;5;124m'\u001b[39m\n\u001b[1;32m----> 2\u001b[0m os\u001b[38;5;241m.\u001b[39mlistdir(filename)\n",
      "\u001b[1;31mNotADirectoryError\u001b[0m: [WinError 267] El nombre del directorio no es válido: '../../../Acquisition2/Data/Trial_markers_QD/T/PTU_9.ptu'"
     ]
    }
   ],
   "source": [
    "filename='../../../Acquisition2/Data/Trial_markers_QD/T/PTU_9.ptu'\n",
    "os.listdir(filename)"
   ]
  },
  {
   "cell_type": "code",
   "execution_count": 28,
   "metadata": {},
   "outputs": [],
   "source": [
    "sn=snAPI()\n",
    "sn.getDevice()\n",
    "sn.getFileDevice(filename)\n",
    "sn.initDevice(MeasMode.T3)\n",
    "sn.unfold.measure()\n",
    "times, channels = sn.unfold.getBlock()\n",
    "dtimes=sn.unfold.dTime_T3(times)\n",
    "markers_Bool=np.array([sn.unfold.isMarker(datai) for datai in channels])\n",
    "m1=markers_Bool*sn.unfold.markers(channels)[2]\n",
    "m2=markers_Bool*sn.unfold.markers(channels)[3]\n",
    "m3=markers_Bool*sn.unfold.markers(channels)[1]\n"
   ]
  },
  {
   "cell_type": "code",
   "execution_count": 29,
   "metadata": {},
   "outputs": [
    {
     "data": {
      "text/plain": [
       "[<matplotlib.lines.Line2D at 0x24d75372410>]"
      ]
     },
     "execution_count": 29,
     "metadata": {},
     "output_type": "execute_result"
    },
    {
     "data": {
      "image/png": "[encoded data removed]",
      "text/plain": [
       "<Figure size 640x480 with 1 Axes>"
      ]
     },
     "metadata": {},
     "output_type": "display_data"
    }
   ],
   "source": [
    "plt.plot(m3[0:100000])"
   ]
  },
  {
   "cell_type": "code",
   "execution_count": 30,
   "metadata": {},
   "outputs": [],
   "source": [
    "cum=np.cumsum(markers_Bool)\n",
    "rm=np.array([n%2 for n in cum])\n",
    "row=np.array(np.cumsum(m2),dtype=int)\n",
    "df=pd.DataFrame(np.array([dtimes,times,channels,markers_Bool,m1,m2,m3,rm]).T,columns=['dTimes','absTimes','Channels','markers','m1','m2','m3','rm'])\n",
    "df['row']=row\n",
    "nrows=np.sum(df['m1'][df['row']==2])\n",
    "col=np.array([f(x) for x in np.cumsum(m1)],dtype=int)\n",
    "df['col']=col"
   ]
  },
  {
   "cell_type": "code",
   "execution_count": 31,
   "metadata": {},
   "outputs": [
    {
     "data": {
      "text/html": [
       "<div>\n",
       "<style scoped>\n",
       "    .dataframe tbody tr th:only-of-type {\n",
       "        vertical-align: middle;\n",
       "    }\n",
       "\n",
       "    .dataframe tbody tr th {\n",
       "        vertical-align: top;\n",
       "    }\n",
       "\n",
       "    .dataframe thead th {\n",
       "        text-align: right;\n",
       "    }\n",
       "</style>\n",
       "<table border=\"1\" class=\"dataframe\">\n",
       "  <thead>\n",
       "    <tr style=\"text-align: right;\">\n",
       "      <th></th>\n",
       "      <th>dTimes</th>\n",
       "      <th>absTimes</th>\n",
       "      <th>Channels</th>\n",
       "      <th>row</th>\n",
       "      <th>col</th>\n",
       "    </tr>\n",
       "  </thead>\n",
       "  <tbody>\n",
       "    <tr>\n",
       "      <th>1760</th>\n",
       "      <td>3904.0</td>\n",
       "      <td>1.696978e+12</td>\n",
       "      <td>133.0</td>\n",
       "      <td>0</td>\n",
       "      <td>1</td>\n",
       "    </tr>\n",
       "    <tr>\n",
       "      <th>1761</th>\n",
       "      <td>13280.0</td>\n",
       "      <td>1.697483e+12</td>\n",
       "      <td>3.0</td>\n",
       "      <td>0</td>\n",
       "      <td>1</td>\n",
       "    </tr>\n",
       "    <tr>\n",
       "      <th>1762</th>\n",
       "      <td>23200.0</td>\n",
       "      <td>1.699009e+12</td>\n",
       "      <td>3.0</td>\n",
       "      <td>0</td>\n",
       "      <td>1</td>\n",
       "    </tr>\n",
       "    <tr>\n",
       "      <th>1763</th>\n",
       "      <td>960.0</td>\n",
       "      <td>1.699790e+12</td>\n",
       "      <td>3.0</td>\n",
       "      <td>0</td>\n",
       "      <td>1</td>\n",
       "    </tr>\n",
       "    <tr>\n",
       "      <th>1764</th>\n",
       "      <td>9376.0</td>\n",
       "      <td>1.700130e+12</td>\n",
       "      <td>3.0</td>\n",
       "      <td>0</td>\n",
       "      <td>1</td>\n",
       "    </tr>\n",
       "    <tr>\n",
       "      <th>...</th>\n",
       "      <td>...</td>\n",
       "      <td>...</td>\n",
       "      <td>...</td>\n",
       "      <td>...</td>\n",
       "      <td>...</td>\n",
       "    </tr>\n",
       "    <tr>\n",
       "      <th>1586272</th>\n",
       "      <td>6176.0</td>\n",
       "      <td>6.266224e+14</td>\n",
       "      <td>3.0</td>\n",
       "      <td>49</td>\n",
       "      <td>0</td>\n",
       "    </tr>\n",
       "    <tr>\n",
       "      <th>1586273</th>\n",
       "      <td>32576.0</td>\n",
       "      <td>6.266231e+14</td>\n",
       "      <td>3.0</td>\n",
       "      <td>49</td>\n",
       "      <td>0</td>\n",
       "    </tr>\n",
       "    <tr>\n",
       "      <th>1586274</th>\n",
       "      <td>2464.0</td>\n",
       "      <td>6.266247e+14</td>\n",
       "      <td>3.0</td>\n",
       "      <td>49</td>\n",
       "      <td>0</td>\n",
       "    </tr>\n",
       "    <tr>\n",
       "      <th>1586275</th>\n",
       "      <td>24992.0</td>\n",
       "      <td>6.266254e+14</td>\n",
       "      <td>3.0</td>\n",
       "      <td>49</td>\n",
       "      <td>0</td>\n",
       "    </tr>\n",
       "    <tr>\n",
       "      <th>1586276</th>\n",
       "      <td>24192.0</td>\n",
       "      <td>6.266262e+14</td>\n",
       "      <td>3.0</td>\n",
       "      <td>49</td>\n",
       "      <td>0</td>\n",
       "    </tr>\n",
       "  </tbody>\n",
       "</table>\n",
       "<p>934499 rows × 5 columns</p>\n",
       "</div>"
      ],
      "text/plain": [
       "          dTimes      absTimes  Channels  row  col\n",
       "1760      3904.0  1.696978e+12     133.0    0    1\n",
       "1761     13280.0  1.697483e+12       3.0    0    1\n",
       "1762     23200.0  1.699009e+12       3.0    0    1\n",
       "1763       960.0  1.699790e+12       3.0    0    1\n",
       "1764      9376.0  1.700130e+12       3.0    0    1\n",
       "...          ...           ...       ...  ...  ...\n",
       "1586272   6176.0  6.266224e+14       3.0   49    0\n",
       "1586273  32576.0  6.266231e+14       3.0   49    0\n",
       "1586274   2464.0  6.266247e+14       3.0   49    0\n",
       "1586275  24992.0  6.266254e+14       3.0   49    0\n",
       "1586276  24192.0  6.266262e+14       3.0   49    0\n",
       "\n",
       "[934499 rows x 5 columns]"
      ]
     },
     "execution_count": 31,
     "metadata": {},
     "output_type": "execute_result"
    }
   ],
   "source": [
    "data= df[df['rm'] ==1]\n",
    "data.drop(columns=['m1', 'm2','m3','markers','rm'])"
   ]
  },
  {
   "cell_type": "code",
   "execution_count": 32,
   "metadata": {},
   "outputs": [],
   "source": [
    "xs=np.unique(df['row'])\n",
    "ys=np.unique(df['col'])\n",
    "M=np.zeros((np.size(xs),np.size(ys)))\n",
    "for xi in xs:\n",
    "    for yi in ys:\n",
    "        M[xi,yi]=np.size(df['dTimes'][(df['row']==xi)&(df['col']==yi)])\n"
   ]
  },
  {
   "cell_type": "code",
   "execution_count": 33,
   "metadata": {},
   "outputs": [
    {
     "data": {
      "text/plain": [
       "<matplotlib.image.AxesImage at 0x24d75319010>"
      ]
     },
     "execution_count": 33,
     "metadata": {},
     "output_type": "execute_result"
    },
    {
     "data": {
      "image/png": "[encoded data removed]",
      "text/plain": [
       "<Figure size 640x480 with 1 Axes>"
      ]
     },
     "metadata": {},
     "output_type": "display_data"
    }
   ],
   "source": [
    "plt.imshow(M)"
   ]
  },
  {
   "cell_type": "code",
   "execution_count": null,
   "metadata": {},
   "outputs": [],
   "source": []
  }
 ],
 "metadata": {
  "kernelspec": {
   "display_name": "Python 3 (ipykernel)",
   "language": "python",
   "name": "python3"
  },
  "language_info": {
   "codemirror_mode": {
    "name": "ipython",
    "version": 3
   },
   "file_extension": ".py",
   "mimetype": "text/x-python",
   "name": "python",
   "nbconvert_exporter": "python",
   "pygments_lexer": "ipython3",
   "version": "3.11.4"
  },
  "toc": {
   "base_numbering": 1,
   "nav_menu": {},
   "number_sections": true,
   "sideBar": true,
   "skip_h1_title": false,
   "title_cell": "Table of Contents",
   "title_sidebar": "Contents",
   "toc_cell": false,
   "toc_position": {},
   "toc_section_display": true,
   "toc_window_display": false
  }
 },
 "nbformat": 4,
 "nbformat_minor": 2
}
