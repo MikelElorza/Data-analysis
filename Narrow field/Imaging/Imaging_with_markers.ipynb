{
 "cells": [
  {
   "cell_type": "code",
   "execution_count": 2,
   "metadata": {},
   "outputs": [
    {
     "ename": "NameError",
     "evalue": "name 'h' is not defined",
     "output_type": "error",
     "traceback": [
      "\u001b[1;31m---------------------------------------------------------------------------\u001b[0m",
      "\u001b[1;31mNameError\u001b[0m                                 Traceback (most recent call last)",
      "\u001b[1;32mc:\\Users\\NEXT-BOLD\\Documents\\MIKEL\\Git Workspaces\\Data-analysis\\Narrow field\\Imaging\\Imaging_with_markers.ipynb Cell 1\u001b[0m line \u001b[0;36m1\n\u001b[0;32m      <a href='vscode-notebook-cell:/c%3A/Users/NEXT-BOLD/Documents/MIKEL/Git%20Workspaces/Data-analysis/Narrow%20field/Imaging/Imaging_with_markers.ipynb#W0sZmlsZQ%3D%3D?line=8'>9</a>\u001b[0m \u001b[39mfrom\u001b[39;00m \u001b[39mFunctions\u001b[39;00m \u001b[39mimport\u001b[39;00m \u001b[39m*\u001b[39m\n\u001b[0;32m     <a href='vscode-notebook-cell:/c%3A/Users/NEXT-BOLD/Documents/MIKEL/Git%20Workspaces/Data-analysis/Narrow%20field/Imaging/Imaging_with_markers.ipynb#W0sZmlsZQ%3D%3D?line=9'>10</a>\u001b[0m \u001b[39mimport\u001b[39;00m \u001b[39mtime\u001b[39;00m\n\u001b[1;32m---> <a href='vscode-notebook-cell:/c%3A/Users/NEXT-BOLD/Documents/MIKEL/Git%20Workspaces/Data-analysis/Narrow%20field/Imaging/Imaging_with_markers.ipynb#W0sZmlsZQ%3D%3D?line=11'>12</a>\u001b[0m h\n",
      "\u001b[1;31mNameError\u001b[0m: name 'h' is not defined"
     ]
    }
   ],
   "source": [
    "import numpy as np\n",
    "import matplotlib.pyplot as plt\n",
    "import os\n",
    "import sys\n",
    "from snAPI.Main import *\n",
    "import pandas as pd\n",
    "sys.path.append(\"../\")\n",
    "from HH import HH_T3\n",
    "from Functions import *\n",
    "import time"
   ]
  },
  {
   "cell_type": "code",
   "execution_count": 2,
   "metadata": {},
   "outputs": [],
   "source": [
    "def getcols(m1,nrows):\n",
    "    arr=np.array([])\n",
    "    for elem in np.cumsum(m1):\n",
    "        rest=elem%(nrows)\n",
    "        inte=elem//(nrows)\n",
    "        if inte%2==1:\n",
    "            a=nrows-rest\n",
    "        else:\n",
    "            a=rest \n",
    "        arr=np.append(arr,a)       \n",
    "    return arr"
   ]
  },
  {
   "cell_type": "code",
   "execution_count": 3,
   "metadata": {},
   "outputs": [],
   "source": [
    "filename='../../../Acquisition2/Data/Trial_markers/T/PTU_6.ptu'\n",
    "#os.listdir(filename)"
   ]
  },
  {
   "cell_type": "code",
   "execution_count": 8,
   "metadata": {},
   "outputs": [],
   "source": [
    "sn=snAPI()\n",
    "sn.getDevice()\n",
    "sn.getFileDevice(filename)\n",
    "sn.initDevice(MeasMode.T3)\n",
    "sn.unfold.measure()\n",
    "times, channels = sn.unfold.getBlock()\n",
    "dtimes=sn.unfold.dTime_T3(times)\n",
    "markers_Bool=np.array([sn.unfold.isMarker(datai) for datai in channels])\n",
    "m1=markers_Bool*sn.unfold.markers(channels)[1]\n",
    "m2=markers_Bool*sn.unfold.markers(channels)[2]\n",
    "m3=markers_Bool*sn.unfold.markers(channels)[3]\n",
    "cum=np.cumsum(markers_Bool)\n",
    "rm=np.array([n%2 for n in cum])\n",
    "row=np.array(np.cumsum(m2),dtype=int)\n",
    "df=pd.DataFrame(np.array([dtimes,times,channels,markers_Bool,m1,m2,m3,rm]).T,columns=['dTimes','absTimes','Channels','markers','m1','m2','m3','rm'])\n",
    "df['row']=row\n",
    "nrows=np.sum(df['m1'][df['row']==2])\n",
    "col=np.array(getcols(m1,nrows),dtype=int)\n",
    "df['col']=col"
   ]
  },
  {
   "cell_type": "code",
   "execution_count": 9,
   "metadata": {},
   "outputs": [
    {
     "data": {
      "text/html": [
       "<div>\n",
       "<style scoped>\n",
       "    .dataframe tbody tr th:only-of-type {\n",
       "        vertical-align: middle;\n",
       "    }\n",
       "\n",
       "    .dataframe tbody tr th {\n",
       "        vertical-align: top;\n",
       "    }\n",
       "\n",
       "    .dataframe thead th {\n",
       "        text-align: right;\n",
       "    }\n",
       "</style>\n",
       "<table border=\"1\" class=\"dataframe\">\n",
       "  <thead>\n",
       "    <tr style=\"text-align: right;\">\n",
       "      <th></th>\n",
       "      <th>dTimes</th>\n",
       "      <th>absTimes</th>\n",
       "      <th>Channels</th>\n",
       "      <th>row</th>\n",
       "      <th>col</th>\n",
       "    </tr>\n",
       "  </thead>\n",
       "  <tbody>\n",
       "    <tr>\n",
       "      <th>7</th>\n",
       "      <td>2132.0</td>\n",
       "      <td>3.421861e+10</td>\n",
       "      <td>131.0</td>\n",
       "      <td>0</td>\n",
       "      <td>1</td>\n",
       "    </tr>\n",
       "    <tr>\n",
       "      <th>8</th>\n",
       "      <td>24110.0</td>\n",
       "      <td>3.991436e+10</td>\n",
       "      <td>3.0</td>\n",
       "      <td>0</td>\n",
       "      <td>1</td>\n",
       "    </tr>\n",
       "    <tr>\n",
       "      <th>9</th>\n",
       "      <td>23398.0</td>\n",
       "      <td>6.352027e+10</td>\n",
       "      <td>3.0</td>\n",
       "      <td>0</td>\n",
       "      <td>1</td>\n",
       "    </tr>\n",
       "    <tr>\n",
       "      <th>10</th>\n",
       "      <td>17022.0</td>\n",
       "      <td>6.415180e+10</td>\n",
       "      <td>3.0</td>\n",
       "      <td>0</td>\n",
       "      <td>1</td>\n",
       "    </tr>\n",
       "    <tr>\n",
       "      <th>11</th>\n",
       "      <td>5680.0</td>\n",
       "      <td>6.480613e+10</td>\n",
       "      <td>3.0</td>\n",
       "      <td>0</td>\n",
       "      <td>1</td>\n",
       "    </tr>\n",
       "    <tr>\n",
       "      <th>...</th>\n",
       "      <td>...</td>\n",
       "      <td>...</td>\n",
       "      <td>...</td>\n",
       "      <td>...</td>\n",
       "      <td>...</td>\n",
       "    </tr>\n",
       "    <tr>\n",
       "      <th>14154</th>\n",
       "      <td>16890.0</td>\n",
       "      <td>6.279460e+13</td>\n",
       "      <td>3.0</td>\n",
       "      <td>9</td>\n",
       "      <td>0</td>\n",
       "    </tr>\n",
       "    <tr>\n",
       "      <th>14155</th>\n",
       "      <td>28148.0</td>\n",
       "      <td>6.280134e+13</td>\n",
       "      <td>3.0</td>\n",
       "      <td>9</td>\n",
       "      <td>0</td>\n",
       "    </tr>\n",
       "    <tr>\n",
       "      <th>14156</th>\n",
       "      <td>16886.0</td>\n",
       "      <td>6.280208e+13</td>\n",
       "      <td>3.0</td>\n",
       "      <td>9</td>\n",
       "      <td>0</td>\n",
       "    </tr>\n",
       "    <tr>\n",
       "      <th>14157</th>\n",
       "      <td>26762.0</td>\n",
       "      <td>6.280786e+13</td>\n",
       "      <td>3.0</td>\n",
       "      <td>9</td>\n",
       "      <td>0</td>\n",
       "    </tr>\n",
       "    <tr>\n",
       "      <th>14158</th>\n",
       "      <td>28018.0</td>\n",
       "      <td>6.282560e+13</td>\n",
       "      <td>3.0</td>\n",
       "      <td>9</td>\n",
       "      <td>0</td>\n",
       "    </tr>\n",
       "  </tbody>\n",
       "</table>\n",
       "<p>3080 rows × 5 columns</p>\n",
       "</div>"
      ],
      "text/plain": [
       "        dTimes      absTimes  Channels  row  col\n",
       "7       2132.0  3.421861e+10     131.0    0    1\n",
       "8      24110.0  3.991436e+10       3.0    0    1\n",
       "9      23398.0  6.352027e+10       3.0    0    1\n",
       "10     17022.0  6.415180e+10       3.0    0    1\n",
       "11      5680.0  6.480613e+10       3.0    0    1\n",
       "...        ...           ...       ...  ...  ...\n",
       "14154  16890.0  6.279460e+13       3.0    9    0\n",
       "14155  28148.0  6.280134e+13       3.0    9    0\n",
       "14156  16886.0  6.280208e+13       3.0    9    0\n",
       "14157  26762.0  6.280786e+13       3.0    9    0\n",
       "14158  28018.0  6.282560e+13       3.0    9    0\n",
       "\n",
       "[3080 rows x 5 columns]"
      ]
     },
     "execution_count": 9,
     "metadata": {},
     "output_type": "execute_result"
    }
   ],
   "source": [
    "data= df[df['rm'] ==1]\n",
    "data.drop(columns=['m1', 'm2','m3','markers','rm'])"
   ]
  },
  {
   "cell_type": "code",
   "execution_count": 10,
   "metadata": {},
   "outputs": [],
   "source": [
    "xs=np.unique(df['row'])\n",
    "ys=np.unique(df['col'])\n",
    "M=np.zeros((np.size(xs),np.size(ys)))\n",
    "for xi in xs:\n",
    "    for yi in ys:\n",
    "        M[xi,yi]=np.size(df['dTimes'][(df['row']==xi)&(df['col']==yi)])\n"
   ]
  },
  {
   "cell_type": "code",
   "execution_count": 11,
   "metadata": {},
   "outputs": [
    {
     "data": {
      "text/plain": [
       "<matplotlib.image.AxesImage at 0x14853f04590>"
      ]
     },
     "execution_count": 11,
     "metadata": {},
     "output_type": "execute_result"
    },
    {
     "data": {
      "image/png": "[encoded data removed]",
      "text/plain": [
       "<Figure size 640x480 with 1 Axes>"
      ]
     },
     "metadata": {},
     "output_type": "display_data"
    }
   ],
   "source": [
    "plt.imshow(M)"
   ]
  },
  {
   "cell_type": "code",
   "execution_count": null,
   "metadata": {},
   "outputs": [],
   "source": []
  }
 ],
 "metadata": {
  "kernelspec": {
   "display_name": "Python 3 (ipykernel)",
   "language": "python",
   "name": "python3"
  },
  "language_info": {
   "codemirror_mode": {
    "name": "ipython",
    "version": 3
   },
   "file_extension": ".py",
   "mimetype": "text/x-python",
   "name": "python",
   "nbconvert_exporter": "python",
   "pygments_lexer": "ipython3",
   "version": "3.11.4"
  },
  "toc": {
   "base_numbering": 1,
   "nav_menu": {},
   "number_sections": true,
   "sideBar": true,
   "skip_h1_title": false,
   "title_cell": "Table of Contents",
   "title_sidebar": "Contents",
   "toc_cell": false,
   "toc_position": {},
   "toc_section_display": true,
   "toc_window_display": false
  }
 },
 "nbformat": 4,
 "nbformat_minor": 2
}
