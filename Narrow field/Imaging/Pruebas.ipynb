{
 "cells": [
  {
   "cell_type": "code",
   "execution_count": 1,
   "id": "c17f854d",
   "metadata": {},
   "outputs": [],
   "source": [
    "import numpy as np\n",
    "import matplotlib.pyplot as plt\n",
    "import os\n",
    "import sys\n",
    "from snAPI.Main import *\n",
    "import pandas as pd\n",
    "sys.path.append(\"../\")\n",
    "from HH import HH_T3\n",
    "from Functions import *"
   ]
  },
  {
   "cell_type": "code",
   "execution_count": 2,
   "id": "1de68807",
   "metadata": {},
   "outputs": [],
   "source": [
    "def GetPos(filename):\n",
    "    parts=filename[:-4].split('_')\n",
    "    x=float(parts[1])\n",
    "    y=float(parts[2])\n",
    "    return x,y\n",
    "def GetGatedCounts(filename,T):\n",
    "    sn.getDevice()\n",
    "    sn.getFileDevice(filename)\n",
    "    sn.initDevice(MeasMode.T3)\n",
    "    t_resol=sn.deviceConfig['Resolution']/1000 #in ns\n",
    "    sn.raw.measure()\n",
    "    data = sn.raw.getData()\n",
    "    channels=sn.raw.channel(data)\n",
    "    dTimes=sn.raw.dTime_T3(data)[np.where(channels==3)]*t_resol\n",
    "    sn.closeDevice()\n",
    "    print(dTimes)\n",
    "    return np.size(dTimes)"
   ]
  },
  {
   "cell_type": "code",
   "execution_count": 3,
   "id": "176e7f64",
   "metadata": {},
   "outputs": [],
   "source": [
    "def ImageData(pathtoPTUs,gate):\n",
    "    arr=np.array([0,0,0])\n",
    "    for file in os.listdir(pathtoPTUs):\n",
    "        if file[0:3]=='PTU':\n",
    "            x,y=GetPos(file)\n",
    "            print(file)\n",
    "            c=GetGatedCounts(pathtoPTUs+file,gate)\n",
    "            print(c)\n",
    "            arr=np.vstack((arr,[x,y,c]))\n",
    "    arr=np.delete(arr,0,0)\n",
    "    return arr"
   ]
  },
  {
   "cell_type": "code",
   "execution_count": 14,
   "id": "42a44cb3",
   "metadata": {},
   "outputs": [
    {
     "ename": "NotADirectoryError",
     "evalue": "[WinError 267] El nombre del directorio no es válido: '../../../Acquisition2/Data/QD1e-4_large/PTU_-0.51_-0.51.ptu'",
     "output_type": "error",
     "traceback": [
      "\u001b[1;31m---------------------------------------------------------------------------\u001b[0m",
      "\u001b[1;31mNotADirectoryError\u001b[0m                        Traceback (most recent call last)",
      "Cell \u001b[1;32mIn[14], line 2\u001b[0m\n\u001b[0;32m      1\u001b[0m filename\u001b[38;5;241m=\u001b[39m\u001b[38;5;124m'\u001b[39m\u001b[38;5;124m../../../Acquisition2/Data/QD1e-4_large/PTU_-0.51_-0.51.ptu\u001b[39m\u001b[38;5;124m'\u001b[39m\n\u001b[1;32m----> 2\u001b[0m os\u001b[38;5;241m.\u001b[39mlistdir(filename)\n",
      "\u001b[1;31mNotADirectoryError\u001b[0m: [WinError 267] El nombre del directorio no es válido: '../../../Acquisition2/Data/QD1e-4_large/PTU_-0.51_-0.51.ptu'"
     ]
    }
   ],
   "source": [
    "filename='../../../Acquisition2/Data/QD1e-4_large/PTU_-0.51_-0.51.ptu'\n",
    "os.listdir(filename)"
   ]
  },
  {
   "cell_type": "code",
   "execution_count": 15,
   "id": "5f4ce169",
   "metadata": {},
   "outputs": [],
   "source": [
    "sn=snAPI()"
   ]
  },
  {
   "cell_type": "code",
   "execution_count": 16,
   "id": "3a00cb44",
   "metadata": {},
   "outputs": [
    {
     "ename": "MemoryError",
     "evalue": "",
     "output_type": "error",
     "traceback": [
      "\u001b[1;31m---------------------------------------------------------------------------\u001b[0m",
      "\u001b[1;31mMemoryError\u001b[0m                               Traceback (most recent call last)",
      "Cell \u001b[1;32mIn[16], line 4\u001b[0m\n\u001b[0;32m      2\u001b[0m sn\u001b[38;5;241m.\u001b[39minitDevice(MeasMode\u001b[38;5;241m.\u001b[39mT3)\n\u001b[0;32m      3\u001b[0m t_resol\u001b[38;5;241m=\u001b[39msn\u001b[38;5;241m.\u001b[39mdeviceConfig[\u001b[38;5;124m'\u001b[39m\u001b[38;5;124mResolution\u001b[39m\u001b[38;5;124m'\u001b[39m]\u001b[38;5;241m/\u001b[39m\u001b[38;5;241m1000\u001b[39m \u001b[38;5;66;03m#in ns\u001b[39;00m\n\u001b[1;32m----> 4\u001b[0m sn\u001b[38;5;241m.\u001b[39mraw\u001b[38;5;241m.\u001b[39mmeasure()\n\u001b[0;32m      5\u001b[0m data\u001b[38;5;241m=\u001b[39m sn\u001b[38;5;241m.\u001b[39mraw\u001b[38;5;241m.\u001b[39mgetData()\n\u001b[0;32m      7\u001b[0m sn\u001b[38;5;241m.\u001b[39mcloseDevice()\n",
      "File \u001b[1;32m~\\anaconda3\\envs\\HydraHarp\\Lib\\site-packages\\snAPI\\Main.py:2427\u001b[0m, in \u001b[0;36mRaw.measure\u001b[1;34m(self, acqTime, size, waitFinished, savePTU)\u001b[0m\n\u001b[0;32m   2369\u001b[0m     \u001b[38;5;28;01mdef\u001b[39;00m \u001b[38;5;21mmeasure\u001b[39m(\u001b[38;5;28mself\u001b[39m, acqTime: typing\u001b[38;5;241m.\u001b[39mOptional[\u001b[38;5;28mint\u001b[39m] \u001b[38;5;241m=\u001b[39m \u001b[38;5;241m1000\u001b[39m, size: typing\u001b[38;5;241m.\u001b[39mOptional[\u001b[38;5;28mint\u001b[39m] \u001b[38;5;241m=\u001b[39m \u001b[38;5;241m134217728\u001b[39m, waitFinished: typing\u001b[38;5;241m.\u001b[39mOptional[\u001b[38;5;28mbool\u001b[39m] \u001b[38;5;241m=\u001b[39m \u001b[38;5;28;01mTrue\u001b[39;00m, savePTU: typing\u001b[38;5;241m.\u001b[39mOptional[\u001b[38;5;28mbool\u001b[39m] \u001b[38;5;241m=\u001b[39m \u001b[38;5;28;01mFalse\u001b[39;00m):\n\u001b[0;32m   2370\u001b[0m \u001b[38;5;250m        \u001b[39m\u001b[38;5;124;03m\"\"\"\u001b[39;00m\n\u001b[0;32m   2371\u001b[0m \u001b[38;5;124;03mWith this function a simple measurement of `Raw` data records into RAM and/or disc is provided.\u001b[39;00m\n\u001b[0;32m   2372\u001b[0m \u001b[38;5;124;03mTherefore, you must define the size of the buffer raw.data. If `waitFinished` is set `True` the call will be blocked\u001b[39;00m\n\u001b[1;32m   (...)\u001b[0m\n\u001b[0;32m   2425\u001b[0m \u001b[38;5;124;03m    \u001b[39;00m\n\u001b[0;32m   2426\u001b[0m \u001b[38;5;124;03m        \"\"\"\u001b[39;00m\n\u001b[1;32m-> 2427\u001b[0m         \u001b[38;5;28mself\u001b[39m\u001b[38;5;241m.\u001b[39mdata \u001b[38;5;241m=\u001b[39m ct\u001b[38;5;241m.\u001b[39mARRAY(ct\u001b[38;5;241m.\u001b[39mc_uint32, size)()\n\u001b[0;32m   2428\u001b[0m         \u001b[38;5;28;01mif\u001b[39;00m(\u001b[38;5;28mself\u001b[39m\u001b[38;5;241m.\u001b[39mparent\u001b[38;5;241m.\u001b[39mdeviceConfig[\u001b[38;5;124m\"\u001b[39m\u001b[38;5;124mMeasMode\u001b[39m\u001b[38;5;124m\"\u001b[39m] \u001b[38;5;241m==\u001b[39m MeasMode\u001b[38;5;241m.\u001b[39mHistogram\u001b[38;5;241m.\u001b[39mvalue):\n\u001b[0;32m   2429\u001b[0m             \u001b[38;5;28mself\u001b[39m\u001b[38;5;241m.\u001b[39mparent\u001b[38;5;241m.\u001b[39mlogPrint( \u001b[38;5;124m\"\u001b[39m\u001b[38;5;124mmeasurement is not supported for Raw class in MeasMode:\u001b[39m\u001b[38;5;124m\"\u001b[39m, MeasMode(\u001b[38;5;28mself\u001b[39m\u001b[38;5;241m.\u001b[39mparent\u001b[38;5;241m.\u001b[39mdeviceConfig[\u001b[38;5;124m\"\u001b[39m\u001b[38;5;124mMeasMode\u001b[39m\u001b[38;5;124m\"\u001b[39m])\u001b[38;5;241m.\u001b[39mname)\n",
      "\u001b[1;31mMemoryError\u001b[0m: "
     ]
    }
   ],
   "source": [
    "sn.getFileDevice(filename)\n",
    "sn.initDevice(MeasMode.T3)\n",
    "t_resol=sn.deviceConfig['Resolution']/1000 #in ns\n",
    "sn.raw.measure()\n",
    "data= sn.raw.getData()\n",
    "\n",
    "sn.closeDevice()"
   ]
  },
  {
   "cell_type": "code",
   "execution_count": 11,
   "id": "f6eb48b3",
   "metadata": {},
   "outputs": [],
   "source": [
    "sn.closeDevice()"
   ]
  },
  {
   "cell_type": "code",
   "execution_count": 7,
   "id": "79c87047",
   "metadata": {},
   "outputs": [
    {
     "data": {
      "text/plain": [
       "array([4261413061,   67160750, 4261412934,   67426831, 4261412995,\n",
       "         67250897, 4261412961,   67366161, 4261412914,   67397721,\n",
       "       4261412881,   67390234, 4261412940,   67259407, 4261412906,\n",
       "         67416002, 4261413160], dtype=uint32)"
      ]
     },
     "execution_count": 7,
     "metadata": {},
     "output_type": "execute_result"
    }
   ],
   "source": [
    "data"
   ]
  },
  {
   "cell_type": "code",
   "execution_count": null,
   "id": "515a5f5f",
   "metadata": {},
   "outputs": [],
   "source": [
    "plt.plot(data[3])"
   ]
  },
  {
   "cell_type": "code",
   "execution_count": 15,
   "id": "725a06a2",
   "metadata": {},
   "outputs": [
    {
     "ename": "NotADirectoryError",
     "evalue": "[WinError 267] El nombre del directorio no es válido: '../../../Acquisition2/Data/QD1e-4_large/PTU_-0.51_-0.51.ptu'",
     "output_type": "error",
     "traceback": [
      "\u001b[1;31m---------------------------------------------------------------------------\u001b[0m",
      "\u001b[1;31mNotADirectoryError\u001b[0m                        Traceback (most recent call last)",
      "Cell \u001b[1;32mIn[15], line 2\u001b[0m\n\u001b[0;32m      1\u001b[0m pathtoPTUs\u001b[38;5;241m=\u001b[39m\u001b[38;5;124m'\u001b[39m\u001b[38;5;124m../../../Acquisition2/Data/QD1e-4_large/\u001b[39m\u001b[38;5;124m'\u001b[39m\n\u001b[1;32m----> 2\u001b[0m os\u001b[38;5;241m.\u001b[39mlistdir(filename)\n",
      "\u001b[1;31mNotADirectoryError\u001b[0m: [WinError 267] El nombre del directorio no es válido: '../../../Acquisition2/Data/QD1e-4_large/PTU_-0.51_-0.51.ptu'"
     ]
    }
   ],
   "source": [
    "pathtoPTUs='../../../Acquisition2/Data/QD1e-4_large/'\n",
    "os.listdir(filename)"
   ]
  },
  {
   "cell_type": "code",
   "execution_count": 16,
   "id": "99d1023a",
   "metadata": {},
   "outputs": [],
   "source": [
    "#os.listdir('../../../Acquisition/Acquisition2/Data/Trial/')"
   ]
  },
  {
   "cell_type": "code",
   "execution_count": 17,
   "id": "3df4517f",
   "metadata": {},
   "outputs": [
    {
     "name": "stdout",
     "output_type": "stream",
     "text": [
      "PTU_-0.51_-0.51.ptu\n"
     ]
    },
    {
     "ename": "MemoryError",
     "evalue": "",
     "output_type": "error",
     "traceback": [
      "\u001b[1;31m---------------------------------------------------------------------------\u001b[0m",
      "\u001b[1;31mMemoryError\u001b[0m                               Traceback (most recent call last)",
      "Cell \u001b[1;32mIn[17], line 1\u001b[0m\n\u001b[1;32m----> 1\u001b[0m d\u001b[38;5;241m=\u001b[39mImageData(pathtoPTUs,\u001b[38;5;241m0\u001b[39m)\n",
      "Cell \u001b[1;32mIn[14], line 7\u001b[0m, in \u001b[0;36mImageData\u001b[1;34m(pathtoPTUs, gate)\u001b[0m\n\u001b[0;32m      5\u001b[0m x,y\u001b[38;5;241m=\u001b[39mGetPos(file)\n\u001b[0;32m      6\u001b[0m \u001b[38;5;28mprint\u001b[39m(file)\n\u001b[1;32m----> 7\u001b[0m c\u001b[38;5;241m=\u001b[39mGetGatedCounts(pathtoPTUs\u001b[38;5;241m+\u001b[39mfile,gate)\n\u001b[0;32m      8\u001b[0m \u001b[38;5;28mprint\u001b[39m(c)\n\u001b[0;32m      9\u001b[0m arr\u001b[38;5;241m=\u001b[39mnp\u001b[38;5;241m.\u001b[39mvstack((arr,[x,y,c]))\n",
      "Cell \u001b[1;32mIn[11], line 11\u001b[0m, in \u001b[0;36mGetGatedCounts\u001b[1;34m(filename, T)\u001b[0m\n\u001b[0;32m      9\u001b[0m sn\u001b[38;5;241m.\u001b[39minitDevice(MeasMode\u001b[38;5;241m.\u001b[39mT3)\n\u001b[0;32m     10\u001b[0m t_resol\u001b[38;5;241m=\u001b[39msn\u001b[38;5;241m.\u001b[39mdeviceConfig[\u001b[38;5;124m'\u001b[39m\u001b[38;5;124mResolution\u001b[39m\u001b[38;5;124m'\u001b[39m]\u001b[38;5;241m/\u001b[39m\u001b[38;5;241m1000\u001b[39m \u001b[38;5;66;03m#in ns\u001b[39;00m\n\u001b[1;32m---> 11\u001b[0m sn\u001b[38;5;241m.\u001b[39mraw\u001b[38;5;241m.\u001b[39mmeasure()\n\u001b[0;32m     12\u001b[0m data \u001b[38;5;241m=\u001b[39m sn\u001b[38;5;241m.\u001b[39mraw\u001b[38;5;241m.\u001b[39mgetData()\n\u001b[0;32m     13\u001b[0m channels\u001b[38;5;241m=\u001b[39msn\u001b[38;5;241m.\u001b[39mraw\u001b[38;5;241m.\u001b[39mchannel(data)\n",
      "File \u001b[1;32m~\\anaconda3\\envs\\HydraHarp\\Lib\\site-packages\\snAPI\\Main.py:2427\u001b[0m, in \u001b[0;36mRaw.measure\u001b[1;34m(self, acqTime, size, waitFinished, savePTU)\u001b[0m\n\u001b[0;32m   2369\u001b[0m     \u001b[38;5;28;01mdef\u001b[39;00m \u001b[38;5;21mmeasure\u001b[39m(\u001b[38;5;28mself\u001b[39m, acqTime: typing\u001b[38;5;241m.\u001b[39mOptional[\u001b[38;5;28mint\u001b[39m] \u001b[38;5;241m=\u001b[39m \u001b[38;5;241m1000\u001b[39m, size: typing\u001b[38;5;241m.\u001b[39mOptional[\u001b[38;5;28mint\u001b[39m] \u001b[38;5;241m=\u001b[39m \u001b[38;5;241m134217728\u001b[39m, waitFinished: typing\u001b[38;5;241m.\u001b[39mOptional[\u001b[38;5;28mbool\u001b[39m] \u001b[38;5;241m=\u001b[39m \u001b[38;5;28;01mTrue\u001b[39;00m, savePTU: typing\u001b[38;5;241m.\u001b[39mOptional[\u001b[38;5;28mbool\u001b[39m] \u001b[38;5;241m=\u001b[39m \u001b[38;5;28;01mFalse\u001b[39;00m):\n\u001b[0;32m   2370\u001b[0m \u001b[38;5;250m        \u001b[39m\u001b[38;5;124;03m\"\"\"\u001b[39;00m\n\u001b[0;32m   2371\u001b[0m \u001b[38;5;124;03mWith this function a simple measurement of `Raw` data records into RAM and/or disc is provided.\u001b[39;00m\n\u001b[0;32m   2372\u001b[0m \u001b[38;5;124;03mTherefore, you must define the size of the buffer raw.data. If `waitFinished` is set `True` the call will be blocked\u001b[39;00m\n\u001b[1;32m   (...)\u001b[0m\n\u001b[0;32m   2425\u001b[0m \u001b[38;5;124;03m    \u001b[39;00m\n\u001b[0;32m   2426\u001b[0m \u001b[38;5;124;03m        \"\"\"\u001b[39;00m\n\u001b[1;32m-> 2427\u001b[0m         \u001b[38;5;28mself\u001b[39m\u001b[38;5;241m.\u001b[39mdata \u001b[38;5;241m=\u001b[39m ct\u001b[38;5;241m.\u001b[39mARRAY(ct\u001b[38;5;241m.\u001b[39mc_uint32, size)()\n\u001b[0;32m   2428\u001b[0m         \u001b[38;5;28;01mif\u001b[39;00m(\u001b[38;5;28mself\u001b[39m\u001b[38;5;241m.\u001b[39mparent\u001b[38;5;241m.\u001b[39mdeviceConfig[\u001b[38;5;124m\"\u001b[39m\u001b[38;5;124mMeasMode\u001b[39m\u001b[38;5;124m\"\u001b[39m] \u001b[38;5;241m==\u001b[39m MeasMode\u001b[38;5;241m.\u001b[39mHistogram\u001b[38;5;241m.\u001b[39mvalue):\n\u001b[0;32m   2429\u001b[0m             \u001b[38;5;28mself\u001b[39m\u001b[38;5;241m.\u001b[39mparent\u001b[38;5;241m.\u001b[39mlogPrint( \u001b[38;5;124m\"\u001b[39m\u001b[38;5;124mmeasurement is not supported for Raw class in MeasMode:\u001b[39m\u001b[38;5;124m\"\u001b[39m, MeasMode(\u001b[38;5;28mself\u001b[39m\u001b[38;5;241m.\u001b[39mparent\u001b[38;5;241m.\u001b[39mdeviceConfig[\u001b[38;5;124m\"\u001b[39m\u001b[38;5;124mMeasMode\u001b[39m\u001b[38;5;124m\"\u001b[39m])\u001b[38;5;241m.\u001b[39mname)\n",
      "\u001b[1;31mMemoryError\u001b[0m: "
     ]
    }
   ],
   "source": [
    "d=ImageData(pathtoPTUs,0)"
   ]
  },
  {
   "cell_type": "code",
   "execution_count": 11,
   "id": "661aee8a",
   "metadata": {},
   "outputs": [
    {
     "data": {
      "text/plain": [
       "array([300207., 302535., 300327., 299634., 298874., 302236., 302575.,\n",
       "       300608., 297203., 299257., 303969., 304191., 298571., 301568.,\n",
       "       302800., 299383., 299494., 302376., 295130., 302369., 304435.,\n",
       "       302439., 299869., 305729., 299857., 302595., 301336., 304101.,\n",
       "       302869., 303362., 295404., 297870., 299998., 294790., 299616.,\n",
       "       297162., 297757., 295152., 295011., 290369., 300780., 299852.,\n",
       "       299558., 300396., 289442., 302962., 301846., 298228., 303016.,\n",
       "       298943., 293069., 294151., 292001., 286515., 290875., 284727.,\n",
       "       293079., 289798., 289907., 285787., 288655., 288320., 282768.,\n",
       "       281133., 283908., 291591., 291439., 284109., 290489., 288338.,\n",
       "       287477., 284584., 285249., 280529., 287620., 288509., 286163.,\n",
       "       279302., 287203., 284565., 294247., 291100., 294535., 286307.,\n",
       "       294645., 291126., 290321., 293582., 294877., 292558., 279585.,\n",
       "       279299., 275506., 280723., 274186., 279876., 281414., 280132.,\n",
       "       282206., 282741.])"
      ]
     },
     "execution_count": 11,
     "metadata": {},
     "output_type": "execute_result"
    }
   ],
   "source": [
    "d.T[2]"
   ]
  },
  {
   "cell_type": "code",
   "execution_count": 12,
   "id": "cb8aa4f0",
   "metadata": {},
   "outputs": [],
   "source": [
    "xs=np.unique(d.T[0])\n",
    "ys=np.unique(d.T[1])\n",
    "m=np.zeros((np.size(xs),np.size(ys)))\n",
    "for point in d:\n",
    "    ind_x=np.where(xs==point[0])[0][0]\n",
    "    ind_y=np.where(ys==point[1])[0][0]\n",
    "    m[ind_x,ind_y]=point[2]   "
   ]
  },
  {
   "cell_type": "code",
   "execution_count": 13,
   "id": "e9a5c9a7",
   "metadata": {},
   "outputs": [
    {
     "data": {
      "text/plain": [
       "<matplotlib.image.AxesImage at 0x27f4ecc6550>"
      ]
     },
     "execution_count": 13,
     "metadata": {},
     "output_type": "execute_result"
    },
    {
     "data": {
      "image/png": "[encoded data removed]",
      "text/plain": [
       "<Figure size 640x480 with 1 Axes>"
      ]
     },
     "metadata": {},
     "output_type": "display_data"
    }
   ],
   "source": [
    "plt.imshow(m)"
   ]
  },
  {
   "cell_type": "code",
   "execution_count": null,
   "id": "a9cb3d7b",
   "metadata": {},
   "outputs": [],
   "source": []
  }
 ],
 "metadata": {
  "kernelspec": {
   "display_name": "Python 3 (ipykernel)",
   "language": "python",
   "name": "python3"
  },
  "language_info": {
   "codemirror_mode": {
    "name": "ipython",
    "version": 3
   },
   "file_extension": ".py",
   "mimetype": "text/x-python",
   "name": "python",
   "nbconvert_exporter": "python",
   "pygments_lexer": "ipython3",
   "version": "3.11.4"
  },
  "toc": {
   "base_numbering": 1,
   "nav_menu": {},
   "number_sections": true,
   "sideBar": true,
   "skip_h1_title": false,
   "title_cell": "Table of Contents",
   "title_sidebar": "Contents",
   "toc_cell": false,
   "toc_position": {},
   "toc_section_display": true,
   "toc_window_display": false
  }
 },
 "nbformat": 4,
 "nbformat_minor": 5
}
