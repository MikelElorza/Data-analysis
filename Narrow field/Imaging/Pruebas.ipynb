{
 "cells": [
  {
   "cell_type": "code",
   "execution_count": 31,
   "id": "c17f854d",
   "metadata": {},
   "outputs": [],
   "source": [
    "import numpy as np\n",
    "import matplotlib.pyplot as plt\n",
    "import os\n",
    "import sys\n",
    "from snAPI.Main import *\n",
    "import pandas as pd\n",
    "sys.path.append(\"../\")\n",
    "from HH import HH_T3\n",
    "from Functions import *"
   ]
  },
  {
   "cell_type": "code",
   "execution_count": 32,
   "id": "1de68807",
   "metadata": {},
   "outputs": [],
   "source": [
    "def GetPos(filename):\n",
    "    parts=filename[:-4].split('_')\n",
    "    x=float(parts[1])\n",
    "    y=float(parts[2])\n",
    "    return x,y\n",
    "def GetGatedCounts(filename,T):\n",
    "    sn.getDevice()\n",
    "    sn.getFileDevice(filename)\n",
    "    sn.initDevice(MeasMode.T3)\n",
    "    t_resol=sn.deviceConfig['Resolution']/1000 #in ns\n",
    "    sn.raw.measure()\n",
    "    data = sn.raw.getData()\n",
    "    channels=sn.raw.channel(data)\n",
    "    dTimes=sn.raw.dTime_T3(data)*t_resol\n",
    "    sn.closeDevice()\n",
    "    print(dTimes)\n",
    "    return np.size(dTimes)"
   ]
  },
  {
   "cell_type": "code",
   "execution_count": 33,
   "id": "176e7f64",
   "metadata": {},
   "outputs": [],
   "source": [
    "def ImageData(pathtoPTUs,gate):\n",
    "    arr=np.array([0,0,0])\n",
    "    for file in os.listdir(pathtoPTUs):\n",
    "        if file[0:3]=='PTU':\n",
    "            x,y=GetPos(file)\n",
    "            c=GetGatedCounts(pathtoPTUs+file,gate)\n",
    "            print(c)\n",
    "            arr=np.vstack((arr,[x,y,c]))\n",
    "    arr=np.delete(arr,0,0)\n",
    "    return arr"
   ]
  },
  {
   "cell_type": "code",
   "execution_count": 34,
   "id": "42a44cb3",
   "metadata": {},
   "outputs": [
    {
     "ename": "FileNotFoundError",
     "evalue": "[WinError 3] El sistema no puede encontrar la ruta especificada: '../../../Acquisition2/Data/Trial/PTU_6.ptu'",
     "output_type": "error",
     "traceback": [
      "\u001b[1;31m---------------------------------------------------------------------------\u001b[0m",
      "\u001b[1;31mFileNotFoundError\u001b[0m                         Traceback (most recent call last)",
      "\u001b[1;32mc:\\Users\\NEXT-BOLD\\Documents\\MIKEL\\Git Workspaces\\Data-analysis\\Narrow field\\Imaging\\Pruebas.ipynb Cell 4\u001b[0m line \u001b[0;36m2\n\u001b[0;32m      <a href='vscode-notebook-cell:/c%3A/Users/NEXT-BOLD/Documents/MIKEL/Git%20Workspaces/Data-analysis/Narrow%20field/Imaging/Pruebas.ipynb#W3sZmlsZQ%3D%3D?line=0'>1</a>\u001b[0m filename\u001b[39m=\u001b[39m\u001b[39m'\u001b[39m\u001b[39m../../../Acquisition2/Data/Trial/PTU_6.ptu\u001b[39m\u001b[39m'\u001b[39m\n\u001b[1;32m----> <a href='vscode-notebook-cell:/c%3A/Users/NEXT-BOLD/Documents/MIKEL/Git%20Workspaces/Data-analysis/Narrow%20field/Imaging/Pruebas.ipynb#W3sZmlsZQ%3D%3D?line=1'>2</a>\u001b[0m os\u001b[39m.\u001b[39mlistdir(filename)\n",
      "\u001b[1;31mFileNotFoundError\u001b[0m: [WinError 3] El sistema no puede encontrar la ruta especificada: '../../../Acquisition2/Data/Trial/PTU_6.ptu'"
     ]
    }
   ],
   "source": [
    "filename='../../../Acquisition2/Data/Trial/PTU_6.ptu'\n",
    "os.listdir(filename)"
   ]
  },
  {
   "cell_type": "code",
   "execution_count": 35,
   "id": "5f4ce169",
   "metadata": {},
   "outputs": [],
   "source": [
    "sn=snAPI()"
   ]
  },
  {
   "cell_type": "code",
   "execution_count": 36,
   "id": "3a00cb44",
   "metadata": {},
   "outputs": [],
   "source": [
    "sn.getFileDevice(filename)\n",
    "sn.initDevice(MeasMode.T3)\n",
    "t_resol=sn.deviceConfig['Resolution']/1000 #in ns\n",
    "sn.raw.measure()\n",
    "data = sn.raw.getData()\n",
    "channels=sn.raw.channel(data)\n",
    "dTimes=sn.raw.dTime_T3(data)[np.where(channels!=64)]*t_resol\n",
    "dataChannels=channels[np.where(channels!=64)]"
   ]
  },
  {
   "cell_type": "code",
   "execution_count": 37,
   "id": "515a5f5f",
   "metadata": {},
   "outputs": [
    {
     "data": {
      "text/plain": [
       "array([], dtype=uint32)"
      ]
     },
     "execution_count": 37,
     "metadata": {},
     "output_type": "execute_result"
    }
   ],
   "source": [
    "data"
   ]
  },
  {
   "cell_type": "code",
   "execution_count": 38,
   "id": "725a06a2",
   "metadata": {},
   "outputs": [],
   "source": [
    "pathtoPTUs='../../../Acquisition2/Data/Trial/'"
   ]
  },
  {
   "cell_type": "code",
   "execution_count": 39,
   "id": "99d1023a",
   "metadata": {},
   "outputs": [],
   "source": [
    "#os.listdir('../../../Acquisition/Acquisition2/Data/Trial/')"
   ]
  },
  {
   "cell_type": "code",
   "execution_count": 40,
   "id": "3df4517f",
   "metadata": {},
   "outputs": [
    {
     "name": "stdout",
     "output_type": "stream",
     "text": [
      "[169.728 617.984 956.672 ... 664.576 220.928 669.952]\n",
      "396778\n",
      "[518.144 845.312 995.584 ... 199.936 960.256 949.248]\n",
      "396316\n",
      "[594.176 503.296 899.072 ... 125.44  410.112 215.04 ]\n",
      "398922\n",
      "[799.744  42.24  456.192 ... 153.344 702.464 172.032]\n",
      "400463\n",
      "[563.456 990.464 509.952 ... 793.6   276.48  536.576]\n",
      "401424\n",
      "[600.064  82.432 984.32  ... 564.48  864.512  33.28 ]\n",
      "403331\n",
      "[963.584 765.44  767.488 ... 799.488 243.968  80.64 ]\n",
      "405007\n",
      "[175.616 131.072 979.456 ... 673.28  264.704 835.072]\n",
      "406090\n",
      "[573.44  230.912 992.    ... 874.752 172.288 221.952]\n",
      "395478\n",
      "[390.656 112.64  644.352 ... 676.608 871.936  22.784]\n",
      "396008\n",
      "[512.256 647.68  328.704 ... 141.056  86.272 522.24 ]\n",
      "395660\n",
      "[707.584 523.008 515.84  ... 114.688 156.672 892.416]\n",
      "397391\n",
      "[541.696  54.016 859.904 ... 432.64   40.192 847.872]\n",
      "397432\n",
      "[951.296 588.8   162.56  ... 847.616 141.056 771.072]\n",
      "397521\n",
      "[763.648 233.216  12.032 ... 170.496 951.552 969.984]\n",
      "399568\n",
      "[787.2   437.76  216.064 ... 778.24  351.488 124.672]\n",
      "401273\n",
      "[701.44  200.448 805.632 ... 166.912 840.192 648.704]\n",
      "401971\n",
      "[162.304 705.792 355.84  ... 294.4   558.08  877.056]\n",
      "403380\n",
      "[150.016 694.528 104.704 ... 779.776   2.816 488.192]\n",
      "394870\n",
      "[875.264 522.496 699.392 ... 462.848 714.752  85.504]\n",
      "396846\n",
      "[ 69.632 598.272 454.4   ... 608.768 543.232 183.296]\n",
      "397007\n",
      "[ 35.072 215.296 470.016 ... 925.952 659.712 841.216]\n",
      "393603\n",
      "[ 77.824 491.264 508.416 ... 676.864 673.536 729.344]\n",
      "396873\n",
      "[467.2   954.368 583.936 ... 899.072 270.848 442.368]\n",
      "396766\n",
      "[334.592 972.288 250.368 ... 926.72  296.192 196.096]\n",
      "397795\n",
      "[239.872 761.088 215.808 ... 486.4   637.696 688.896]\n",
      "398894\n",
      "[319.232 317.184 292.352 ... 838.912 151.04  815.36 ]\n",
      "399400\n",
      "[573.696 167.424 457.216 ... 339.712 116.224 822.016]\n",
      "401479\n",
      "[439.04  619.52  458.496 ... 484.864 776.704 265.216]\n",
      "396512\n",
      "[425.216 214.528 518.656 ... 164.608 624.384 115.2  ]\n",
      "397090\n",
      "[324.096 252.416 914.176 ... 401.152 434.944 312.832]\n",
      "399031\n",
      "[396.544 524.288  41.472 ... 893.184 211.712 333.056]\n",
      "398489\n",
      "[831.744 563.968 242.432 ... 767.232 190.72  932.096]\n",
      "398514\n",
      "[578.56  588.8   648.96  ... 641.28  508.672 158.976]\n",
      "398536\n",
      "[207.872 445.696 238.336 ... 709.632  94.976 453.12 ]\n",
      "397472\n",
      "[467.712 805.632 718.08  ... 852.992 837.376 900.352]\n",
      "398747\n",
      "[978.432 254.976 328.192 ... 652.544 434.432 984.832]\n",
      "399026\n",
      "[508.672 737.024 245.504 ... 174.336 408.832 109.568]\n",
      "398955\n",
      "[262.912 257.28  449.792 ... 981.248 923.392 915.2  ]\n",
      "401111\n",
      "[199.424 713.728 651.008 ... 800.768 602.368 902.144]\n",
      "401670\n",
      "[645.376  80.384  73.728 ... 798.208 921.088 879.872]\n",
      "402091\n",
      "[393.728 212.736 211.2   ... 651.776 329.472 241.664]\n",
      "401688\n",
      "[188.928 819.456 523.008 ... 318.976 590.848 772.608]\n",
      "400823\n",
      "[239.616 303.104 861.696 ... 726.016 878.336  84.224]\n",
      "399875\n",
      "[804.864 782.592  39.168 ... 110.08  996.608 204.544]\n",
      "400121\n",
      "[194.048 606.976 236.8   ... 983.808 333.056 559.616]\n",
      "398170\n",
      "[885.76  541.696  26.368 ... 878.336 777.472 486.4  ]\n",
      "399870\n",
      "[906.24  421.12   34.56  ... 394.24  359.168 678.144]\n",
      "399561\n",
      "[751.104 611.84  719.616 ... 569.344 669.952 954.112]\n",
      "403410\n",
      "[262.4   728.064 679.68  ... 310.784 166.656 954.112]\n",
      "403684\n",
      "[734.464 195.584 290.816 ... 175.104 498.944 609.536]\n",
      "406568\n",
      "[  5.12  788.736  69.12  ... 244.224 346.624 567.296]\n",
      "406494\n",
      "[176.64  368.896 959.744 ... 812.8   152.832 304.64 ]\n",
      "405217\n",
      "[163.072 260.864  68.096 ...  35.84  757.76   18.176]\n",
      "404206\n",
      "[ 15.616 529.408 233.984 ... 233.728 377.344 817.664]\n",
      "402323\n",
      "[506.624 968.96  635.392 ... 320.512 516.864 711.424]\n",
      "400607\n",
      "[833.024 948.48   47.872 ...   9.472  69.632  73.984]\n",
      "401905\n",
      "[257.792 973.312 486.656 ...  39.68  171.008 143.36 ]\n",
      "398114\n",
      "[169.728 441.6   539.648 ... 702.976 214.528 355.072]\n",
      "407724\n",
      "[645.632 190.976 860.672 ... 213.504 297.984 667.136]\n",
      "409104\n",
      "[803.072 548.352 285.184 ... 399.872 578.048 434.432]\n",
      "412219\n",
      "[662.528 135.168 463.104 ... 790.272 226.816 876.032]\n",
      "410111\n",
      "[479.488 297.984 434.176 ...  49.152 765.696 875.008]\n",
      "409458\n",
      "[558.848 774.656 714.24  ... 494.848 145.408 609.28 ]\n",
      "406761\n",
      "[417.792 414.976 752.384 ... 624.896 131.072 921.344]\n",
      "405771\n",
      "[844.544 270.08  185.344 ... 992.768 416.768 446.72 ]\n",
      "404498\n",
      "[738.56  454.4   204.8   ...  79.104 209.92  177.664]\n",
      "403071\n",
      "[968.704 822.272 790.784 ... 445.44  610.304 477.44 ]\n",
      "401937\n",
      "[916.48  784.896 482.048 ... 253.184 746.752 275.968]\n",
      "412335\n",
      "[580.864 959.232 909.056 ...  31.488 151.04  932.608]\n",
      "412868\n",
      "[265.728 148.224 720.384 ... 491.264 241.408 249.856]\n",
      "416487\n",
      "[254.72  485.12  928.256 ... 536.064 751.616 761.088]\n",
      "414726\n",
      "[570.112 106.496 540.672 ... 312.32  470.016 410.88 ]\n",
      "412596\n",
      "[754.688 544.512   7.168 ... 324.352 919.552 109.568]\n",
      "410177\n",
      "[801.792  60.928 660.224 ... 455.424 478.464 514.304]\n",
      "406774\n",
      "[172.8   160.    925.44  ... 290.56  883.712 591.616]\n",
      "403512\n",
      "[122.112 171.264 136.704 ... 765.952 133.888 724.224]\n",
      "400379\n",
      "[877.312 190.464 176.64  ... 180.48  555.264 970.752]\n",
      "401707\n",
      "[343.808 450.56  678.144 ... 263.424 801.792 242.176]\n",
      "418867\n",
      "[866.816 470.528 514.816 ... 184.064 821.76  170.24 ]\n",
      "420350\n",
      "[735.488 543.232 428.8   ... 932.864 662.016 716.288]\n",
      "397199\n",
      "[994.816 698.368 362.496 ... 575.744  74.24   12.032]\n",
      "397871\n",
      "[314.88  275.712 646.912 ... 843.008 189.952 456.448]\n",
      "401396\n",
      "[ 91.904 803.84  500.736 ...  85.248 251.648 966.144]\n",
      "402378\n",
      "[623.616 428.544 358.144 ... 506.368 190.464 435.712]\n",
      "406090\n",
      "[861.184 825.6   510.208 ... 804.352  24.064 716.8  ]\n",
      "407148\n",
      "[141.312 415.744 285.696 ...  68.352 961.536 190.976]\n",
      "408072\n",
      "[305.92  553.984 468.224 ... 513.024 990.208 164.608]\n",
      "411164\n",
      "[348.928 443.648 960.    ... 972.032 267.008 990.208]\n",
      "398285\n",
      "[942.336 803.584 466.176 ... 640.768 687.616 333.312]\n",
      "395275\n",
      "[ 17.152 628.224 237.824 ... 442.624 696.832 371.2  ]\n",
      "401193\n",
      "[975.36  364.8    80.384 ... 121.856 250.624 292.864]\n",
      "402280\n",
      "[102.656  78.592 563.968 ... 357.376 934.4    81.152]\n",
      "404264\n",
      "[343.808 160.512 789.76  ... 340.224 873.728 942.336]\n",
      "406328\n",
      "[297.728 734.72  947.456 ... 943.872 662.784 688.896]\n",
      "408612\n",
      "[ 43.264 841.216 486.144 ... 146.432 750.336  48.384]\n",
      "410623\n",
      "[948.224 425.216 270.336 ... 361.728 451.584 668.416]\n",
      "414092\n",
      "[900.864 786.688 457.472 ... 770.56  306.688 164.864]\n",
      "415764\n",
      "[216.064 132.096 829.696 ... 451.584 250.624 263.936]\n",
      "400671\n",
      "[184.32  410.88  591.36  ... 870.144 104.96  488.96 ]\n",
      "400501\n"
     ]
    }
   ],
   "source": [
    "d=ImageData(pathtoPTUs,0)"
   ]
  },
  {
   "cell_type": "code",
   "execution_count": 41,
   "id": "661aee8a",
   "metadata": {},
   "outputs": [
    {
     "data": {
      "text/plain": [
       "array([396778., 396316., 398922., 400463., 401424., 403331., 405007.,\n",
       "       406090., 395478., 396008., 395660., 397391., 397432., 397521.,\n",
       "       399568., 401273., 401971., 403380., 394870., 396846., 397007.,\n",
       "       393603., 396873., 396766., 397795., 398894., 399400., 401479.,\n",
       "       396512., 397090., 399031., 398489., 398514., 398536., 397472.,\n",
       "       398747., 399026., 398955., 401111., 401670., 402091., 401688.,\n",
       "       400823., 399875., 400121., 398170., 399870., 399561., 403410.,\n",
       "       403684., 406568., 406494., 405217., 404206., 402323., 400607.,\n",
       "       401905., 398114., 407724., 409104., 412219., 410111., 409458.,\n",
       "       406761., 405771., 404498., 403071., 401937., 412335., 412868.,\n",
       "       416487., 414726., 412596., 410177., 406774., 403512., 400379.,\n",
       "       401707., 418867., 420350., 397199., 397871., 401396., 402378.,\n",
       "       406090., 407148., 408072., 411164., 398285., 395275., 401193.,\n",
       "       402280., 404264., 406328., 408612., 410623., 414092., 415764.,\n",
       "       400671., 400501.])"
      ]
     },
     "execution_count": 41,
     "metadata": {},
     "output_type": "execute_result"
    }
   ],
   "source": [
    "d.T[2]"
   ]
  },
  {
   "cell_type": "code",
   "execution_count": 42,
   "id": "cb8aa4f0",
   "metadata": {},
   "outputs": [],
   "source": [
    "xs=np.unique(d.T[0])\n",
    "ys=np.unique(d.T[1])\n",
    "m=np.zeros((np.size(xs),np.size(ys)))\n",
    "for point in d:\n",
    "    ind_x=np.where(xs==point[0])[0][0]\n",
    "    ind_y=np.where(ys==point[1])[0][0]\n",
    "    m[ind_x,ind_y]=point[2]   "
   ]
  },
  {
   "cell_type": "code",
   "execution_count": 43,
   "id": "e9a5c9a7",
   "metadata": {},
   "outputs": [
    {
     "data": {
      "text/plain": [
       "<matplotlib.image.AxesImage at 0x13fa2209850>"
      ]
     },
     "execution_count": 43,
     "metadata": {},
     "output_type": "execute_result"
    },
    {
     "data": {
      "image/png": "[encoded data removed]",
      "text/plain": [
       "<Figure size 640x480 with 1 Axes>"
      ]
     },
     "metadata": {},
     "output_type": "display_data"
    }
   ],
   "source": [
    "plt.imshow(m)"
   ]
  },
  {
   "cell_type": "code",
   "execution_count": null,
   "id": "a9cb3d7b",
   "metadata": {},
   "outputs": [],
   "source": []
  }
 ],
 "metadata": {
  "kernelspec": {
   "display_name": "Python 3 (ipykernel)",
   "language": "python",
   "name": "python3"
  },
  "language_info": {
   "codemirror_mode": {
    "name": "ipython",
    "version": 3
   },
   "file_extension": ".py",
   "mimetype": "text/x-python",
   "name": "python",
   "nbconvert_exporter": "python",
   "pygments_lexer": "ipython3",
   "version": "3.11.4"
  },
  "toc": {
   "base_numbering": 1,
   "nav_menu": {},
   "number_sections": true,
   "sideBar": true,
   "skip_h1_title": false,
   "title_cell": "Table of Contents",
   "title_sidebar": "Contents",
   "toc_cell": false,
   "toc_position": {},
   "toc_section_display": true,
   "toc_window_display": false
  }
 },
 "nbformat": 4,
 "nbformat_minor": 5
}
