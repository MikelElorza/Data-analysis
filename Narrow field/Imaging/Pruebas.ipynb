{
 "cells": [
  {
   "cell_type": "code",
   "execution_count": 1,
   "id": "c17f854d",
   "metadata": {},
   "outputs": [],
   "source": [
    "import numpy as np\n",
    "import matplotlib.pyplot as plt\n",
    "import os\n",
    "import sys\n",
    "from snAPI.Main import *\n",
    "import pandas as pd\n",
    "sys.path.append(\"../\")\n",
    "from HH import HH_T3\n",
    "from Functions import *"
   ]
  },
  {
   "cell_type": "code",
   "execution_count": 2,
   "id": "1de68807",
   "metadata": {},
   "outputs": [],
   "source": [
    "def GetPos(filename):\n",
    "    parts=filename[:-4].split('_')\n",
    "    x=float(parts[1])\n",
    "    y=float(parts[2])\n",
    "    return x,y\n",
    "def GetGatedCounts(filename,T):\n",
    "    sn.getDevice()\n",
    "    sn.getFileDevice(filename)\n",
    "    sn.initDevice(MeasMode.T3)\n",
    "    t_resol=sn.deviceConfig['Resolution']/1000 #in ns\n",
    "    sn.raw.measure()\n",
    "    data = sn.raw.getData()\n",
    "    channels=sn.raw.channel(data)\n",
    "    dTimes=sn.raw.dTime_T3(data)*t_resol\n",
    "    sn.closeDevice()\n",
    "    print(dTimes)\n",
    "    return np.size(dTimes)"
   ]
  },
  {
   "cell_type": "code",
   "execution_count": 3,
   "id": "176e7f64",
   "metadata": {},
   "outputs": [],
   "source": [
    "def ImageData(pathtoPTUs,gate):\n",
    "    arr=np.array([0,0,0])\n",
    "    for file in os.listdir(pathtoPTUs):\n",
    "        if file[0:3]=='PTU':\n",
    "            x,y=GetPos(file)\n",
    "            c=GetGatedCounts(pathtoPTUs+file,gate)\n",
    "            print(c)\n",
    "            arr=np.vstack((arr,[x,y,c]))\n",
    "    arr=np.delete(arr,0,0)\n",
    "    return arr"
   ]
  },
  {
   "cell_type": "code",
   "execution_count": 4,
   "id": "42a44cb3",
   "metadata": {},
   "outputs": [
    {
     "ename": "FileNotFoundError",
     "evalue": "[WinError 3] El sistema no puede encontrar la ruta especificada: '../../../Acquisition2/Data/Trial/PTU_6.ptu'",
     "output_type": "error",
     "traceback": [
      "\u001b[1;31m---------------------------------------------------------------------------\u001b[0m",
      "\u001b[1;31mFileNotFoundError\u001b[0m                         Traceback (most recent call last)",
      "Cell \u001b[1;32mIn[4], line 2\u001b[0m\n\u001b[0;32m      1\u001b[0m filename\u001b[38;5;241m=\u001b[39m\u001b[38;5;124m'\u001b[39m\u001b[38;5;124m../../../Acquisition2/Data/Trial/PTU_6.ptu\u001b[39m\u001b[38;5;124m'\u001b[39m\n\u001b[1;32m----> 2\u001b[0m os\u001b[38;5;241m.\u001b[39mlistdir(filename)\n",
      "\u001b[1;31mFileNotFoundError\u001b[0m: [WinError 3] El sistema no puede encontrar la ruta especificada: '../../../Acquisition2/Data/Trial/PTU_6.ptu'"
     ]
    }
   ],
   "source": [
    "filename='../../../Acquisition2/Data/Trial/PTU_6.ptu'\n",
    "os.listdir(filename)"
   ]
  },
  {
   "cell_type": "code",
   "execution_count": 5,
   "id": "5f4ce169",
   "metadata": {},
   "outputs": [],
   "source": [
    "sn=snAPI()"
   ]
  },
  {
   "cell_type": "code",
   "execution_count": 6,
   "id": "3a00cb44",
   "metadata": {},
   "outputs": [],
   "source": [
    "sn.getFileDevice(filename)\n",
    "sn.initDevice(MeasMode.T3)\n",
    "t_resol=sn.deviceConfig['Resolution']/1000 #in ns\n",
    "sn.raw.measure()\n",
    "data = sn.raw.getData()\n",
    "channels=sn.raw.channel(data)\n",
    "dTimes=sn.raw.dTime_T3(data)[np.where(channels!=64)]*t_resol\n",
    "dataChannels=channels[np.where(channels!=64)]"
   ]
  },
  {
   "cell_type": "code",
   "execution_count": 7,
   "id": "515a5f5f",
   "metadata": {},
   "outputs": [
    {
     "data": {
      "text/plain": [
       "array([], dtype=uint32)"
      ]
     },
     "execution_count": 7,
     "metadata": {},
     "output_type": "execute_result"
    }
   ],
   "source": [
    "data"
   ]
  },
  {
   "cell_type": "code",
   "execution_count": 8,
   "id": "725a06a2",
   "metadata": {},
   "outputs": [],
   "source": [
    "pathtoPTUs='../../../Acquisition2/Data/Trial/'"
   ]
  },
  {
   "cell_type": "code",
   "execution_count": 9,
   "id": "99d1023a",
   "metadata": {},
   "outputs": [],
   "source": [
    "#os.listdir('../../../Acquisition/Acquisition2/Data/Trial/')"
   ]
  },
  {
   "cell_type": "code",
   "execution_count": 10,
   "id": "3df4517f",
   "metadata": {},
   "outputs": [
    {
     "name": "stdout",
     "output_type": "stream",
     "text": [
      "[84.224 68.096 69.888 ... 68.352 69.376 69.12 ]\n",
      "300207\n",
      "[68.608 68.096 69.632 ... 67.84  81.152 77.056]\n",
      "302535\n",
      "[68.096 72.192 69.376 ... 68.352 70.144 68.608]\n",
      "300327\n",
      "[81.92  69.632 70.4   ... 73.728 67.584 67.584]\n",
      "299634\n",
      "[70.656 72.96  76.032 ... 69.632 74.752 72.192]\n",
      "298874\n",
      "[67.84  70.912 67.072 ... 74.752 67.84  73.728]\n",
      "302236\n",
      "[70.656 67.584 73.472 ... 71.68  78.848 68.608]\n",
      "302575\n",
      "[67.584 68.352 72.704 ... 69.632 68.096 70.912]\n",
      "300608\n",
      "[67.328 67.328 68.864 ... 70.4   72.448 68.608]\n",
      "297203\n",
      "[68.352 67.584 68.864 ... 72.96  68.608 68.352]\n",
      "299257\n",
      "[68.096 67.84  67.84  ... 72.96  70.144 70.144]\n",
      "303969\n",
      "[69.376 68.608 70.656 ... 72.192 68.352 71.168]\n",
      "304191\n",
      "[73.216 67.328 70.4   ... 80.896 71.168 76.544]\n",
      "298571\n",
      "[68.352 68.864 68.352 ... 70.656 69.376 70.656]\n",
      "301568\n",
      "[67.328 69.12  76.8   ... 68.096 72.96  75.52 ]\n",
      "302800\n",
      "[77.568 68.608 69.888 ... 72.704 78.336 73.728]\n",
      "299383\n",
      "[71.424 78.336 68.096 ... 74.496 68.096 72.96 ]\n",
      "299494\n",
      "[72.192 79.36  69.12  ... 67.328 67.84  68.864]\n",
      "302376\n",
      "[68.096 67.072 68.096 ... 68.608 68.352 67.328]\n",
      "295130\n",
      "[67.328 69.12  68.096 ... 69.12  86.016 67.84 ]\n",
      "302369\n",
      "[69.12  72.192 68.864 ... 75.52  67.84  68.608]\n",
      "304435\n",
      "[72.96  72.96  69.888 ... 73.984 69.888 68.864]\n",
      "302439\n",
      "[74.496 67.584 72.448 ... 71.424 67.84  71.424]\n",
      "299869\n",
      "[67.84  69.632 67.84  ... 73.472 68.096 69.632]\n",
      "305729\n",
      "[75.264 68.608 70.4   ... 67.84  68.352 74.496]\n",
      "299857\n",
      "[ 71.68   70.656  68.352 ... 955.392  70.4    68.352]\n",
      "302595\n",
      "[69.888 71.168 68.352 ... 74.496 69.12  69.888]\n",
      "301336\n",
      "[77.312 71.168 74.752 ... 68.864 73.728 71.424]\n",
      "304101\n",
      "[ 67.328  78.336 102.912 ...  71.68   70.4    81.152]\n",
      "302869\n",
      "[68.096 69.376 71.936 ... 70.144 71.68  67.84 ]\n",
      "303362\n",
      "[68.096 73.216 71.424 ... 68.096 69.376 82.688]\n",
      "295404\n",
      "[67.584 77.824 67.84  ... 68.352 70.656 74.752]\n",
      "297870\n",
      "[68.864 68.864 68.864 ... 68.608 68.608 72.96 ]\n",
      "299998\n",
      "[69.632 69.632 68.864 ... 68.608 68.096 75.264]\n",
      "294790\n",
      "[70.656 68.608 68.096 ... 69.376 74.496 67.84 ]\n",
      "299616\n",
      "[72.704 69.12  69.12  ... 69.888 68.096 75.52 ]\n",
      "297162\n",
      "[69.12  68.352 68.864 ... 67.584 67.84  75.264]\n",
      "297757\n",
      "[68.608 70.912 68.096 ... 78.848 68.864 70.4  ]\n",
      "295152\n",
      "[67.84  74.496 73.728 ... 68.096 67.584 77.824]\n",
      "295011\n",
      "[70.144 68.352 75.008 ... 67.84  69.12  69.12 ]\n",
      "290369\n",
      "[74.24  68.864 67.584 ... 82.944 71.936 70.656]\n",
      "300780\n",
      "[71.68  70.656 67.584 ... 71.168 73.216 68.096]\n",
      "299852\n",
      "[71.68  69.376 68.096 ... 70.656 75.008 71.168]\n",
      "299558\n",
      "[ 69.888  75.008 939.776 ...  72.704  68.352  68.096]\n",
      "300396\n",
      "[69.632 67.84  69.376 ... 69.12  69.12  67.84 ]\n",
      "289442\n",
      "[67.84  67.584 78.592 ... 73.216 67.84  81.408]\n",
      "302962\n",
      "[67.584 77.312 67.584 ... 70.4   67.328 74.496]\n",
      "301846\n",
      "[68.608 68.864 76.544 ... 70.912 69.12  70.656]\n",
      "298228\n",
      "[73.728 67.84  71.168 ... 72.192 68.608 85.504]\n",
      "303016\n",
      "[71.936 69.632 69.376 ... 67.328 67.328 72.96 ]\n",
      "298943\n",
      "[68.096 75.52  68.352 ... 67.84  68.096 69.12 ]\n",
      "293069\n",
      "[68.864 70.144 74.24  ... 69.12  70.144 69.376]\n",
      "294151\n",
      "[70.144 71.424 68.352 ... 70.4   78.08  68.864]\n",
      "292001\n",
      "[67.84  68.352 72.96  ... 69.376 76.544 68.096]\n",
      "286515\n",
      "[72.192 72.704 70.144 ... 69.632 72.448 86.272]\n",
      "290875\n",
      "[67.328 77.312 83.968 ... 67.584 69.632 70.912]\n",
      "284727\n",
      "[72.96  70.144 67.84  ... 70.912 69.376 70.4  ]\n",
      "293079\n",
      "[70.144 69.632 70.4   ... 68.096 72.192 67.84 ]\n",
      "289798\n",
      "[72.448 69.376 70.656 ... 69.12  67.584 74.496]\n",
      "289907\n",
      "[69.376 68.608 69.888 ... 73.216 67.84  70.144]\n",
      "285787\n",
      "[73.728 75.776 68.352 ... 72.448 70.144 68.864]\n",
      "288655\n",
      "[67.584 71.68  67.328 ... 67.84  68.352 79.104]\n",
      "288320\n",
      "[67.584 71.936 75.008 ... 72.704 68.608 67.84 ]\n",
      "282768\n",
      "[74.496 68.096 69.12  ... 72.448 68.352 73.216]\n",
      "281133\n",
      "[69.12  67.84  70.144 ... 67.584 68.608 70.4  ]\n",
      "283908\n",
      "[71.936 70.144 70.144 ... 69.12  74.752 71.168]\n",
      "291591\n",
      "[68.096 79.616 70.144 ... 69.632 67.84  70.656]\n",
      "291439\n",
      "[69.632 68.608 69.632 ... 67.584 67.328 68.096]\n",
      "284109\n",
      "[77.312 68.352 72.448 ... 70.656 67.584 67.84 ]\n",
      "290489\n",
      "[69.888 70.912 69.888 ... 68.352 71.168 71.68 ]\n",
      "288338\n",
      "[73.984 67.84  75.776 ... 67.328 68.608 67.84 ]\n",
      "287477\n",
      "[71.936 67.584 68.096 ... 71.68  72.704 67.072]\n",
      "284584\n",
      "[69.376 70.144 68.864 ... 68.096 68.864 73.728]\n",
      "285249\n",
      "[68.608 69.12  68.096 ... 69.632 76.288 71.424]\n",
      "280529\n",
      "[70.4   68.608 72.192 ... 70.144 69.888 78.336]\n",
      "287620\n",
      "[67.584 67.84  67.328 ... 71.424 75.52  67.84 ]\n",
      "288509\n",
      "[69.632 69.632 70.912 ... 68.352 71.68  67.584]\n",
      "286163\n",
      "[71.424 68.608 71.168 ... 67.84  68.608 70.656]\n",
      "279302\n",
      "[68.864 70.144 70.144 ... 67.84  70.144 67.328]\n",
      "287203\n",
      "[68.864 68.864 71.68  ... 68.608 70.144 74.24 ]\n",
      "284565\n",
      "[67.584 68.608 68.352 ... 70.912 68.864 68.096]\n",
      "294247\n",
      "[69.12  71.424 68.608 ... 67.84  69.12  72.704]\n",
      "291100\n",
      "[68.096 68.352 68.864 ... 69.12  67.328 68.352]\n",
      "294535\n",
      "[67.584 71.168 81.664 ... 69.376 68.352 67.072]\n",
      "286307\n",
      "[70.4   68.096 67.84  ... 69.376 81.664 76.544]\n",
      "294645\n",
      "[69.888 67.328 70.144 ... 77.568 70.144 69.632]\n",
      "291126\n",
      "[67.584 72.192 70.912 ... 68.096 74.752 69.12 ]\n",
      "290321\n",
      "[67.584 67.584 71.68  ... 78.592 69.12  68.864]\n",
      "293582\n",
      "[74.752 68.352 70.4   ... 72.96  69.376 69.12 ]\n",
      "294877\n",
      "[68.608 68.352 81.408 ... 69.632 69.632 68.864]\n",
      "292558\n",
      "[71.936 68.352 84.48  ... 69.632 68.608 72.704]\n",
      "279585\n",
      "[71.168 70.4   73.984 ... 72.448 69.888 68.352]\n",
      "279299\n",
      "[68.352 69.632 69.12  ... 69.632 71.68  70.656]\n",
      "275506\n",
      "[71.936 67.84  71.424 ... 69.888 71.168 68.352]\n",
      "280723\n",
      "[68.352 69.12  68.864 ... 67.328 70.144 67.84 ]\n",
      "274186\n",
      "[69.376 80.64  69.12  ... 68.864 69.632 70.656]\n",
      "279876\n",
      "[67.84  67.84  70.656 ... 68.352 68.352 69.632]\n",
      "281414\n",
      "[68.608 73.216 70.4   ... 69.888 73.728 69.888]\n",
      "280132\n",
      "[68.864 71.936 67.584 ... 69.632 70.144 68.608]\n",
      "282206\n",
      "[69.12  67.328 68.096 ... 72.96  80.896 68.352]\n",
      "282741\n"
     ]
    }
   ],
   "source": [
    "d=ImageData(pathtoPTUs,0)"
   ]
  },
  {
   "cell_type": "code",
   "execution_count": 11,
   "id": "661aee8a",
   "metadata": {},
   "outputs": [
    {
     "data": {
      "text/plain": [
       "array([300207., 302535., 300327., 299634., 298874., 302236., 302575.,\n",
       "       300608., 297203., 299257., 303969., 304191., 298571., 301568.,\n",
       "       302800., 299383., 299494., 302376., 295130., 302369., 304435.,\n",
       "       302439., 299869., 305729., 299857., 302595., 301336., 304101.,\n",
       "       302869., 303362., 295404., 297870., 299998., 294790., 299616.,\n",
       "       297162., 297757., 295152., 295011., 290369., 300780., 299852.,\n",
       "       299558., 300396., 289442., 302962., 301846., 298228., 303016.,\n",
       "       298943., 293069., 294151., 292001., 286515., 290875., 284727.,\n",
       "       293079., 289798., 289907., 285787., 288655., 288320., 282768.,\n",
       "       281133., 283908., 291591., 291439., 284109., 290489., 288338.,\n",
       "       287477., 284584., 285249., 280529., 287620., 288509., 286163.,\n",
       "       279302., 287203., 284565., 294247., 291100., 294535., 286307.,\n",
       "       294645., 291126., 290321., 293582., 294877., 292558., 279585.,\n",
       "       279299., 275506., 280723., 274186., 279876., 281414., 280132.,\n",
       "       282206., 282741.])"
      ]
     },
     "execution_count": 11,
     "metadata": {},
     "output_type": "execute_result"
    }
   ],
   "source": [
    "d.T[2]"
   ]
  },
  {
   "cell_type": "code",
   "execution_count": 12,
   "id": "cb8aa4f0",
   "metadata": {},
   "outputs": [],
   "source": [
    "xs=np.unique(d.T[0])\n",
    "ys=np.unique(d.T[1])\n",
    "m=np.zeros((np.size(xs),np.size(ys)))\n",
    "for point in d:\n",
    "    ind_x=np.where(xs==point[0])[0][0]\n",
    "    ind_y=np.where(ys==point[1])[0][0]\n",
    "    m[ind_x,ind_y]=point[2]   "
   ]
  },
  {
   "cell_type": "code",
   "execution_count": 13,
   "id": "e9a5c9a7",
   "metadata": {},
   "outputs": [
    {
     "data": {
      "text/plain": [
       "<matplotlib.image.AxesImage at 0x27f4ecc6550>"
      ]
     },
     "execution_count": 13,
     "metadata": {},
     "output_type": "execute_result"
    },
    {
     "data": {
      "image/png": "[encoded data removed]",
      "text/plain": [
       "<Figure size 640x480 with 1 Axes>"
      ]
     },
     "metadata": {},
     "output_type": "display_data"
    }
   ],
   "source": [
    "plt.imshow(m)"
   ]
  },
  {
   "cell_type": "code",
   "execution_count": null,
   "id": "a9cb3d7b",
   "metadata": {},
   "outputs": [],
   "source": []
  }
 ],
 "metadata": {
  "kernelspec": {
   "display_name": "Python 3 (ipykernel)",
   "language": "python",
   "name": "python3"
  },
  "language_info": {
   "codemirror_mode": {
    "name": "ipython",
    "version": 3
   },
   "file_extension": ".py",
   "mimetype": "text/x-python",
   "name": "python",
   "nbconvert_exporter": "python",
   "pygments_lexer": "ipython3",
   "version": "3.11.4"
  },
  "toc": {
   "base_numbering": 1,
   "nav_menu": {},
   "number_sections": true,
   "sideBar": true,
   "skip_h1_title": false,
   "title_cell": "Table of Contents",
   "title_sidebar": "Contents",
   "toc_cell": false,
   "toc_position": {},
   "toc_section_display": true,
   "toc_window_display": false
  }
 },
 "nbformat": 4,
 "nbformat_minor": 5
}
