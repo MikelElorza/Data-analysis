{
 "cells": [
  {
   "cell_type": "code",
   "execution_count": 2,
   "id": "c17f854d",
   "metadata": {},
   "outputs": [],
   "source": [
    "import numpy as np\n",
    "import matplotlib.pyplot as plt\n",
    "import os\n",
    "import sys\n",
    "import snAPI.Main as sn\n",
    "import pandas as pd\n",
    "sys.path.append(\"../\")\n",
    "from HH import HH_T3\n",
    "from Functions import *"
   ]
  },
  {
   "cell_type": "code",
   "execution_count": 3,
   "id": "1de68807",
   "metadata": {},
   "outputs": [],
   "source": [
    "def GetPos(filename):\n",
    "    parts=filename.split('_')\n",
    "    x=float(parts[1])\n",
    "    y=float(parts[2])\n",
    "    return x,y\n",
    "def GetGatedCounts(filename,T):\n",
    "    data=HH_T3(sn,filename)\n",
    "    return np.size(data.Gate(T))"
   ]
  },
  {
   "cell_type": "code",
   "execution_count": 4,
   "id": "176e7f64",
   "metadata": {},
   "outputs": [],
   "source": [
    "def ImageData(pathtoPTUs,gate):\n",
    "    arr=np.array([0,0,0])\n",
    "    for file in os.listdir(pathtoPTUs):\n",
    "        x,y=GetPos(file)\n",
    "        c=GetGatedCounts(file,gate)\n",
    "        arr=np.vstack(arr,[x,y,c])\n",
    "    arr=np.delete(arr,0,0)"
   ]
  },
  {
   "cell_type": "code",
   "execution_count": 5,
   "id": "725a06a2",
   "metadata": {},
   "outputs": [],
   "source": [
    "pathtoPTUs=\"\""
   ]
  },
  {
   "cell_type": "code",
   "execution_count": 12,
   "id": "71e7fa95",
   "metadata": {},
   "outputs": [
    {
     "data": {
      "text/plain": [
       "['.git',\n",
       " '.vscode',\n",
       " 'Devices',\n",
       " 'Functions',\n",
       " 'MainProgram.py',\n",
       " 'Old_acquisition']"
      ]
     },
     "execution_count": 12,
     "metadata": {},
     "output_type": "execute_result"
    }
   ],
   "source": [
    "os.listdir('../../../Acquisition')"
   ]
  },
  {
   "cell_type": "code",
   "execution_count": null,
   "id": "3df4517f",
   "metadata": {},
   "outputs": [],
   "source": []
  }
 ],
 "metadata": {
  "kernelspec": {
   "display_name": "Python 3 (ipykernel)",
   "language": "python",
   "name": "python3"
  },
  "language_info": {
   "codemirror_mode": {
    "name": "ipython",
    "version": 3
   },
   "file_extension": ".py",
   "mimetype": "text/x-python",
   "name": "python",
   "nbconvert_exporter": "python",
   "pygments_lexer": "ipython3",
   "version": "3.11.4"
  }
 },
 "nbformat": 4,
 "nbformat_minor": 5
}
