{
 "cells": [
  {
   "cell_type": "code",
   "execution_count": 4,
   "id": "c17f854d",
   "metadata": {},
   "outputs": [],
   "source": [
    "import numpy as np\n",
    "import matplotlib.pyplot as plt\n",
    "import os\n",
    "import sys\n",
    "from snAPI.Main import *\n",
    "import pandas as pd\n",
    "sys.path.append(\"../\")\n",
    "from HH import HH_T3\n",
    "from Functions import *"
   ]
  },
  {
   "cell_type": "code",
   "execution_count": 34,
   "id": "1de68807",
   "metadata": {},
   "outputs": [],
   "source": [
    "def GetPos(filename):\n",
    "    parts=filename[:-4].split('_')\n",
    "    x=float(parts[1])\n",
    "    y=float(parts[2])\n",
    "    return x,y\n",
    "def GetGatedCounts(filename,T):\n",
    "    sn.getDevice()\n",
    "    sn.getFileDevice(filename)\n",
    "    sn.initDevice(MeasMode.T3)\n",
    "    t_resol=sn.deviceConfig['Resolution']/1000 #in ns\n",
    "    sn.raw.measure()\n",
    "    data = sn.raw.getData()\n",
    "    channels=sn.raw.channel(data)\n",
    "    dTimes=sn.raw.dTime_T3(data)*t_resol\n",
    "    sn.closeDevice()\n",
    "    print(dTimes)\n",
    "    return np.size(dTimes)"
   ]
  },
  {
   "cell_type": "code",
   "execution_count": 38,
   "id": "176e7f64",
   "metadata": {},
   "outputs": [],
   "source": [
    "def ImageData(pathtoPTUs,gate):\n",
    "    arr=np.array([0,0,0])\n",
    "    for file in os.listdir(pathtoPTUs):\n",
    "        if file[0:3]=='PTU':\n",
    "            x,y=GetPos(file)\n",
    "            c=GetGatedCounts(pathtoPTUs+file,gate)\n",
    "            print(c)\n",
    "            arr=np.vstack((arr,[x,y,c]))\n",
    "    arr=np.delete(arr,0,0)\n",
    "    return arr"
   ]
  },
  {
   "cell_type": "code",
   "execution_count": 7,
   "id": "5f4ce169",
   "metadata": {},
   "outputs": [],
   "source": [
    "sn=snAPI()"
   ]
  },
  {
   "cell_type": "code",
   "execution_count": 15,
   "id": "42a44cb3",
   "metadata": {},
   "outputs": [],
   "source": [
    "data=HH_T3(sn,'../../../Acquisition/Acquisition2/Data/Trial/PTU_0.00_0.00.ptu')"
   ]
  },
  {
   "cell_type": "code",
   "execution_count": 21,
   "id": "515a5f5f",
   "metadata": {},
   "outputs": [
    {
     "data": {
      "text/html": [
       "<div>\n",
       "<style scoped>\n",
       "    .dataframe tbody tr th:only-of-type {\n",
       "        vertical-align: middle;\n",
       "    }\n",
       "\n",
       "    .dataframe tbody tr th {\n",
       "        vertical-align: top;\n",
       "    }\n",
       "\n",
       "    .dataframe thead th {\n",
       "        text-align: right;\n",
       "    }\n",
       "</style>\n",
       "<table border=\"1\" class=\"dataframe\">\n",
       "  <thead>\n",
       "    <tr style=\"text-align: right;\">\n",
       "      <th></th>\n",
       "      <th>dTimes</th>\n",
       "      <th>absTimes</th>\n",
       "      <th>Channels</th>\n",
       "    </tr>\n",
       "  </thead>\n",
       "  <tbody>\n",
       "    <tr>\n",
       "      <th>0</th>\n",
       "      <td>12.735</td>\n",
       "      <td>4.532876e+07</td>\n",
       "      <td>3.0</td>\n",
       "    </tr>\n",
       "    <tr>\n",
       "      <th>1</th>\n",
       "      <td>27.767</td>\n",
       "      <td>6.002642e+07</td>\n",
       "      <td>3.0</td>\n",
       "    </tr>\n",
       "    <tr>\n",
       "      <th>2</th>\n",
       "      <td>17.658</td>\n",
       "      <td>4.261248e+08</td>\n",
       "      <td>3.0</td>\n",
       "    </tr>\n",
       "  </tbody>\n",
       "</table>\n",
       "</div>"
      ],
      "text/plain": [
       "   dTimes      absTimes  Channels\n",
       "0  12.735  4.532876e+07       3.0\n",
       "1  27.767  6.002642e+07       3.0\n",
       "2  17.658  4.261248e+08       3.0"
      ]
     },
     "execution_count": 21,
     "metadata": {},
     "output_type": "execute_result"
    }
   ],
   "source": [
    "data.df"
   ]
  },
  {
   "cell_type": "code",
   "execution_count": 22,
   "id": "725a06a2",
   "metadata": {},
   "outputs": [],
   "source": [
    "pathtoPTUs='../../../Acquisition/Acquisition2/Data/Trial/'"
   ]
  },
  {
   "cell_type": "code",
   "execution_count": 23,
   "id": "99d1023a",
   "metadata": {},
   "outputs": [],
   "source": [
    "#os.listdir('../../../Acquisition/Acquisition2/Data/Trial/')"
   ]
  },
  {
   "cell_type": "code",
   "execution_count": 39,
   "id": "3df4517f",
   "metadata": {},
   "outputs": [
    {
     "name": "stdout",
     "output_type": "stream",
     "text": [
      "[ 0.     0.    12.735  0.    27.767  0.     0.     0.     0.     0.\n",
      "  0.     0.     0.     0.    17.658  0.     0.     0.     0.     0.\n",
      "  0.     0.     0.     0.     0.     0.     0.     0.     0.   ]\n",
      "29\n",
      "[ 0.     0.     0.     0.    10.993  0.     0.     0.     0.     0.\n",
      "  0.     0.     0.     0.     0.     0.     0.     0.     0.     0.\n",
      "  0.     0.     0.     0.     0.   ]\n",
      "25\n",
      "[ 0.     0.     0.     0.     0.     0.     0.     0.     0.     0.\n",
      "  0.     0.     0.     0.     0.     0.    22.219  0.     0.     0.\n",
      "  0.     0.     0.     0.   ]\n",
      "24\n",
      "[ 0.     0.     0.     0.     0.     0.     0.     0.    20.42   0.\n",
      " 17.894  0.     0.     0.     4.716  0.     0.     0.     0.     0.\n",
      "  0.     0.     0.     0.     0.     0.     0.     0.   ]\n",
      "28\n",
      "[ 0.     0.     0.     0.     0.     0.     0.     0.     0.     0.\n",
      "  0.     0.    27.659  0.     0.     0.    12.372  0.     0.     0.\n",
      "  0.     8.292  0.     0.     0.     0.     0.     0.    29.253  0.\n",
      "  0.   ]\n",
      "31\n",
      "[ 0.     1.679  0.     0.     0.    24.163  0.     0.     0.    13.254\n",
      "  0.     0.     0.     0.     0.     0.     0.    20.038  0.     0.\n",
      "  0.     0.     0.     0.     0.     0.     0.     0.   ]\n",
      "28\n",
      "[0.    0.    0.    0.    7.974 0.    0.    0.    0.    0.    0.    0.\n",
      " 0.    3.743 0.    2.664 0.    0.    0.    0.    0.    0.    0.    0.\n",
      " 0.    0.    0.    0.   ]\n",
      "28\n",
      "[ 0.     0.     0.     0.     0.     0.     0.     0.     0.     0.\n",
      "  0.     0.     0.     0.    19.124  0.     0.     0.     0.     0.\n",
      "  0.     0.     0.     0.     0.   ]\n",
      "25\n",
      "[ 0.     0.     0.    21.14   0.     0.     0.     0.    11.781  0.\n",
      "  0.     0.     0.     0.     0.     0.     0.     0.     0.     0.\n",
      "  0.     0.    27.8    0.     0.     0.     0.    24.311  0.   ]\n",
      "29\n",
      "[ 0.     0.     0.     0.     0.     0.     0.     0.     0.     0.\n",
      "  0.     0.     0.     0.     0.     0.     0.     0.     0.     0.\n",
      " 13.352  0.     0.    23.146  0.     0.   ]\n",
      "26\n",
      "[ 0.     0.    28.403  0.     0.     0.     0.     0.     0.     0.\n",
      "  0.     0.     0.     0.     0.     0.     0.     0.     0.     0.\n",
      "  0.     0.     0.     0.     0.   ]\n",
      "25\n",
      "[ 0.     0.     0.     0.     0.     0.     0.     0.     0.     0.\n",
      "  0.     0.     0.    27.965  0.     0.     0.     0.     0.     0.\n",
      "  0.     0.     0.     0.     0.   ]\n",
      "25\n",
      "[0. 0. 0. 0. 0. 0. 0. 0. 0. 0. 0. 0. 0. 0. 0. 0. 0. 0. 0. 0. 0. 0. 0.]\n",
      "23\n",
      "[0.    0.    0.    0.    0.    0.    0.    0.    0.    0.    0.    2.426\n",
      " 0.    0.    0.    0.    0.    0.    0.    0.    0.    0.    0.    0.\n",
      " 0.   ]\n",
      "25\n",
      "[ 0.     0.     0.     0.     0.     0.     0.    10.991  0.     0.\n",
      "  0.     0.     0.     0.    28.785  0.     0.     0.     0.     0.\n",
      "  0.     0.     0.     0.     0.     0.     0.     0.   ]\n",
      "28\n",
      "[ 0.     0.     0.     0.     0.     0.     0.     0.     0.     0.\n",
      "  0.     0.     0.     0.     0.     0.     0.     0.     8.809  0.\n",
      "  0.     0.    18.539  0.     0.     0.   ]\n",
      "26\n",
      "[ 0.     0.     0.     0.     0.     0.     0.     0.     0.     0.\n",
      "  0.     0.     0.    11.366  0.     0.     0.     0.    24.765  0.\n",
      "  0.     0.     0.     0.     0.     0.   ]\n",
      "26\n",
      "[ 0.    29.938  0.     0.     0.     0.     0.     0.     0.     0.\n",
      "  0.     0.     0.     0.     0.     0.     0.     0.     0.     0.\n",
      "  0.     0.     0.     0.     0.   ]\n",
      "25\n",
      "[0. 0. 0. 0. 0. 0. 0. 0. 0. 0. 0. 0. 0. 0. 0. 0. 0. 0. 0. 0. 0. 0. 0.]\n",
      "23\n",
      "[0. 0. 0. 0. 0. 0. 0. 0. 0. 0. 0. 0. 0. 0. 0. 0. 0. 0. 0. 0. 0. 0. 0.]\n",
      "23\n",
      "[ 0.     0.     0.     0.     0.     0.     0.     0.     0.     0.\n",
      "  0.     0.     0.     0.     0.     0.     0.     6.87   0.     0.\n",
      " 24.852  0.     0.     0.     0.     0.    24.263  0.     0.   ]\n",
      "29\n",
      "[ 0.     0.     0.     0.     0.     0.     0.     0.     0.     0.\n",
      " 16.184  0.     0.     0.     0.     0.     0.     0.     0.     0.\n",
      "  0.     0.     0.     0.     0.   ]\n",
      "25\n",
      "[0.    0.    0.    0.    0.    0.    0.    0.    0.    0.    8.719 0.\n",
      " 0.    0.    0.    0.    0.    0.    0.    0.    0.    0.    0.    0.\n",
      " 0.   ]\n",
      "25\n",
      "[0.    0.    0.    0.    0.    0.    0.    0.    0.    0.    0.    0.\n",
      " 0.    0.    0.    0.    0.    0.    0.    0.    0.    0.    0.    8.299\n",
      " 0.    0.   ]\n",
      "26\n",
      "[ 0.     0.    20.004  0.     0.     0.     0.     0.     0.     0.\n",
      "  0.     0.     0.     0.     0.     0.     0.     0.     0.     0.\n",
      "  0.     0.     0.     0.     0.   ]\n",
      "25\n"
     ]
    }
   ],
   "source": [
    "d=ImageData(pathtoPTUs,0)"
   ]
  },
  {
   "cell_type": "code",
   "execution_count": 40,
   "id": "661aee8a",
   "metadata": {},
   "outputs": [
    {
     "data": {
      "text/plain": [
       "array([29., 25., 24., 28., 31., 28., 28., 25., 29., 26., 25., 25., 23.,\n",
       "       25., 28., 26., 26., 25., 23., 23., 29., 25., 25., 26., 25.])"
      ]
     },
     "execution_count": 40,
     "metadata": {},
     "output_type": "execute_result"
    }
   ],
   "source": [
    "d.T[2]"
   ]
  },
  {
   "cell_type": "code",
   "execution_count": 42,
   "id": "4024300e",
   "metadata": {},
   "outputs": [
    {
     "data": {
      "text/plain": [
       "<matplotlib.collections.PathCollection at 0x200ab5e8fd0>"
      ]
     },
     "execution_count": 42,
     "metadata": {},
     "output_type": "execute_result"
    },
    {
     "data": {
      "image/png": "[encoded data removed]",
      "text/plain": [
       "<Figure size 300x300 with 1 Axes>"
      ]
     },
     "metadata": {},
     "output_type": "display_data"
    }
   ],
   "source": [
    "plt.figure(figsize=(3,3))\n",
    "plt.scatter(d.T[0],d.T[1],c=d.T[2],marker='s',s=1200)"
   ]
  },
  {
   "cell_type": "code",
   "execution_count": null,
   "id": "cb8aa4f0",
   "metadata": {},
   "outputs": [],
   "source": []
  }
 ],
 "metadata": {
  "kernelspec": {
   "display_name": "Python 3 (ipykernel)",
   "language": "python",
   "name": "python3"
  },
  "language_info": {
   "codemirror_mode": {
    "name": "ipython",
    "version": 3
   },
   "file_extension": ".py",
   "mimetype": "text/x-python",
   "name": "python",
   "nbconvert_exporter": "python",
   "pygments_lexer": "ipython3",
   "version": "3.11.4"
  },
  "toc": {
   "base_numbering": 1,
   "nav_menu": {},
   "number_sections": true,
   "sideBar": true,
   "skip_h1_title": false,
   "title_cell": "Table of Contents",
   "title_sidebar": "Contents",
   "toc_cell": false,
   "toc_position": {},
   "toc_section_display": true,
   "toc_window_display": false
  }
 },
 "nbformat": 4,
 "nbformat_minor": 5
}
