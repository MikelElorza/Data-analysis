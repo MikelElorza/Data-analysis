{
 "cells": [
  {
   "cell_type": "code",
   "execution_count": 1,
   "id": "c17f854d",
   "metadata": {},
   "outputs": [],
   "source": [
    "import numpy as np\n",
    "import matplotlib.pyplot as plt\n",
    "import os\n",
    "import sys\n",
    "from snAPI.Main import *\n",
    "import pandas as pd\n",
    "sys.path.append(\"../\")\n",
    "from HH import HH_T3\n",
    "from Functions import *"
   ]
  },
  {
   "cell_type": "code",
   "execution_count": 2,
   "id": "1de68807",
   "metadata": {},
   "outputs": [],
   "source": [
    "def GetPos(filename):\n",
    "    parts=filename[:-4].split('_')\n",
    "    x=float(parts[1])\n",
    "    y=float(parts[2])\n",
    "    return x,y\n",
    "def GetGatedCounts(filename,T):\n",
    "    sn.getDevice()\n",
    "    sn.getFileDevice(filename)\n",
    "    sn.initDevice(MeasMode.T3)\n",
    "    t_resol=sn.deviceConfig['Resolution']/1000 #in ns\n",
    "    sn.raw.measure()\n",
    "    data = sn.raw.getData()\n",
    "    channels=sn.raw.channel(data)\n",
    "    dTimes=sn.raw.dTime_T3(data)*t_resol\n",
    "    sn.closeDevice()\n",
    "    print(dTimes)\n",
    "    return np.size(dTimes)"
   ]
  },
  {
   "cell_type": "code",
   "execution_count": 3,
   "id": "176e7f64",
   "metadata": {},
   "outputs": [],
   "source": [
    "def ImageData(pathtoPTUs,gate):\n",
    "    arr=np.array([0,0,0])\n",
    "    for file in os.listdir(pathtoPTUs):\n",
    "        if file[0:3]=='PTU':\n",
    "            x,y=GetPos(file)\n",
    "            c=GetGatedCounts(pathtoPTUs+file,gate)\n",
    "            print(c)\n",
    "            arr=np.vstack((arr,[x,y,c]))\n",
    "    arr=np.delete(arr,0,0)\n",
    "    return arr"
   ]
  },
  {
   "cell_type": "code",
   "execution_count": 4,
   "id": "5f4ce169",
   "metadata": {},
   "outputs": [],
   "source": [
    "sn=snAPI()"
   ]
  },
  {
   "cell_type": "code",
   "execution_count": 15,
   "id": "42a44cb3",
   "metadata": {},
   "outputs": [],
   "source": [
    "data=HH_T3(sn,'../../../Acquisition/Acquisition2/Data/Trial/PTU_0.00_0.00.ptu')"
   ]
  },
  {
   "cell_type": "code",
   "execution_count": 21,
   "id": "515a5f5f",
   "metadata": {},
   "outputs": [
    {
     "data": {
      "text/html": [
       "<div>\n",
       "<style scoped>\n",
       "    .dataframe tbody tr th:only-of-type {\n",
       "        vertical-align: middle;\n",
       "    }\n",
       "\n",
       "    .dataframe tbody tr th {\n",
       "        vertical-align: top;\n",
       "    }\n",
       "\n",
       "    .dataframe thead th {\n",
       "        text-align: right;\n",
       "    }\n",
       "</style>\n",
       "<table border=\"1\" class=\"dataframe\">\n",
       "  <thead>\n",
       "    <tr style=\"text-align: right;\">\n",
       "      <th></th>\n",
       "      <th>dTimes</th>\n",
       "      <th>absTimes</th>\n",
       "      <th>Channels</th>\n",
       "    </tr>\n",
       "  </thead>\n",
       "  <tbody>\n",
       "    <tr>\n",
       "      <th>0</th>\n",
       "      <td>12.735</td>\n",
       "      <td>4.532876e+07</td>\n",
       "      <td>3.0</td>\n",
       "    </tr>\n",
       "    <tr>\n",
       "      <th>1</th>\n",
       "      <td>27.767</td>\n",
       "      <td>6.002642e+07</td>\n",
       "      <td>3.0</td>\n",
       "    </tr>\n",
       "    <tr>\n",
       "      <th>2</th>\n",
       "      <td>17.658</td>\n",
       "      <td>4.261248e+08</td>\n",
       "      <td>3.0</td>\n",
       "    </tr>\n",
       "  </tbody>\n",
       "</table>\n",
       "</div>"
      ],
      "text/plain": [
       "   dTimes      absTimes  Channels\n",
       "0  12.735  4.532876e+07       3.0\n",
       "1  27.767  6.002642e+07       3.0\n",
       "2  17.658  4.261248e+08       3.0"
      ]
     },
     "execution_count": 21,
     "metadata": {},
     "output_type": "execute_result"
    }
   ],
   "source": [
    "data.df"
   ]
  },
  {
   "cell_type": "code",
   "execution_count": 20,
   "id": "725a06a2",
   "metadata": {},
   "outputs": [],
   "source": [
    "pathtoPTUs='../../../Acquisition2/Data/Trial/'"
   ]
  },
  {
   "cell_type": "code",
   "execution_count": 21,
   "id": "99d1023a",
   "metadata": {},
   "outputs": [
    {
     "data": {
      "text/plain": [
       "['PTU_0.00_0.00.ptu',\n",
       " 'PTU_0.00_0.25.ptu',\n",
       " 'PTU_0.00_0.50.ptu',\n",
       " 'PTU_0.00_0.75.ptu',\n",
       " 'PTU_0.00_1.00.ptu',\n",
       " 'PTU_0.25_0.00.ptu',\n",
       " 'PTU_0.25_0.25.ptu',\n",
       " 'PTU_0.25_0.50.ptu',\n",
       " 'PTU_0.25_0.75.ptu',\n",
       " 'PTU_0.25_1.00.ptu',\n",
       " 'PTU_0.50_0.00.ptu',\n",
       " 'PTU_0.50_0.25.ptu',\n",
       " 'PTU_0.50_0.50.ptu',\n",
       " 'PTU_0.50_0.75.ptu',\n",
       " 'PTU_0.50_1.00.ptu',\n",
       " 'PTU_0.75_0.00.ptu',\n",
       " 'PTU_0.75_0.25.ptu',\n",
       " 'PTU_0.75_0.50.ptu',\n",
       " 'PTU_0.75_0.75.ptu',\n",
       " 'PTU_0.75_1.00.ptu',\n",
       " 'PTU_1.00_0.00.ptu',\n",
       " 'PTU_1.00_0.25.ptu',\n",
       " 'PTU_1.00_0.50.ptu',\n",
       " 'PTU_1.00_0.75.ptu',\n",
       " 'PTU_1.00_1.00.ptu']"
      ]
     },
     "execution_count": 21,
     "metadata": {},
     "output_type": "execute_result"
    }
   ],
   "source": [
    "os.listdir('../../../Acquisition2/Data/Trial')"
   ]
  },
  {
   "cell_type": "code",
   "execution_count": 22,
   "id": "3df4517f",
   "metadata": {},
   "outputs": [
    {
     "name": "stdout",
     "output_type": "stream",
     "text": [
      "[ 0.     0.     0.     0.     0.     0.     0.     0.     0.     0.\n",
      "  0.    12.554  0.     0.     0.     0.     0.     0.     0.     0.\n",
      "  0.     0.     0.     0.    24.036  0.     0.   ]\n",
      "27\n",
      "[ 0.     0.    15.355  0.     0.     0.     0.     0.     0.     0.\n",
      "  0.     0.     0.     0.     0.    15.703  0.     0.     0.     0.\n",
      "  0.     0.     0.     8.184  0.     0.     0.     0.     1.461  0.   ]\n",
      "30\n",
      "[ 0.     0.     0.     0.     0.     0.     0.     0.     0.     0.\n",
      "  0.     0.     0.     0.     0.     0.     0.     0.     0.     0.\n",
      " 27.456  0.     0.     0.     0.     0.   ]\n",
      "26\n",
      "[ 0.     0.     0.     0.     0.     7.036  0.     0.     0.     7.335\n",
      "  0.     0.     0.     0.     0.    25.832  0.     0.     0.     0.\n",
      "  0.     0.     0.     0.     0.     0.     0.   ]\n",
      "27\n",
      "[ 0.     0.     0.     0.     0.     0.     0.     0.    27.521  0.\n",
      "  0.     0.     0.     0.     0.     0.     0.     0.     0.    28.252\n",
      "  0.     0.     0.     0.     0.     0.     8.58   0.     0.   ]\n",
      "29\n",
      "[ 0.     0.     0.     0.     0.     0.     0.     0.     0.     0.\n",
      " 18.341  0.     0.     0.     0.     0.     0.     0.     0.     0.\n",
      "  0.     0.     0.     0.     0.   ]\n",
      "25\n",
      "[ 0.     0.     0.     0.     0.    18.356  0.     0.     0.     0.\n",
      "  0.     0.     0.     0.     0.     0.     0.     0.     0.     0.\n",
      " 30.831  0.     0.     8.246  0.     0.     0.   ]\n",
      "27\n",
      "[ 0.     0.     0.     0.     0.     0.     0.     0.     0.     0.\n",
      "  0.     0.     0.     0.     0.     0.     0.     0.     0.    18.366\n",
      "  0.     0.    16.252  0.     0.     0.   ]\n",
      "26\n",
      "[ 0.     0.     0.     0.     0.     0.     0.     0.     0.     0.\n",
      "  0.    31.781  0.     0.     0.     0.     0.     0.     0.     0.\n",
      "  0.     0.     0.     0.     0.     0.   ]\n",
      "26\n",
      "[0.    0.    0.    0.    0.    0.    0.    0.    0.    0.    0.    0.\n",
      " 0.    0.    0.    0.    0.    0.    0.    0.    0.    5.161 0.    0.   ]\n",
      "24\n",
      "[0.    0.    0.    0.    0.    0.    0.    0.    0.    0.    0.    0.\n",
      " 0.    0.    0.    0.    0.    0.    1.623 0.    0.    0.    0.    0.\n",
      " 0.   ]\n",
      "25\n",
      "[ 0.     0.     0.    28.314  0.     0.     0.     0.     0.     0.\n",
      "  0.     0.     0.     0.     0.     0.     0.     0.     0.    23.827\n",
      "  0.     0.     0.     0.     0.     0.   ]\n",
      "26\n",
      "[ 0.     0.     0.     0.     5.77   0.     0.     0.     0.     0.\n",
      "  0.     0.     0.     0.     0.     0.     0.     0.     0.     0.\n",
      "  0.     0.    27.893  0.    24.443  0.     0.     0.     0.   ]\n",
      "29\n",
      "[ 0.    18.808  0.     0.     0.     0.     0.     0.     0.     0.\n",
      "  0.     0.     0.     0.     0.     0.     0.    12.356  0.     0.\n",
      "  0.     0.     0.     0.     0.     0.     0.   ]\n",
      "27\n",
      "[ 0.     0.     0.     0.     0.     0.    13.118  0.     0.     0.\n",
      "  0.     0.     0.     0.     0.     0.    22.993  0.     0.     0.\n",
      "  0.     0.     0.     0.     0.     0.     0.   ]\n",
      "27\n",
      "[0.    0.    7.574 0.    0.    0.    0.    0.    0.    0.    0.    0.\n",
      " 0.    0.    0.    0.    0.    0.    0.    0.    0.    0.    0.    0.\n",
      " 0.   ]\n",
      "25\n",
      "[ 0.     0.     0.     0.     0.     0.     0.     0.     0.     0.\n",
      "  0.     0.     0.    20.06   0.     0.    18.344  0.     0.     0.\n",
      "  0.     0.     0.     0.     0.     0.     0.   ]\n",
      "27\n",
      "[ 0.     0.     0.     0.     0.     0.     6.752  0.     0.     0.\n",
      "  0.     0.     0.     0.     0.     0.    10.426  0.     0.     0.\n",
      "  0.     0.     0.     0.     0.     0.     0.   ]\n",
      "27\n",
      "[ 0.     0.     0.     0.     0.    30.969  0.     0.     0.     0.\n",
      "  0.     0.     0.     0.     0.     0.     0.     0.     0.     0.\n",
      "  0.     0.     0.    17.73   0.     0.     0.   ]\n",
      "27\n",
      "[0. 0. 0. 0. 0. 0. 0. 0. 0. 0. 0. 0. 0. 0. 0. 0. 0. 0. 0. 0. 0. 0. 0.]\n",
      "23\n",
      "[ 0.     0.     0.     0.     0.     0.     0.     0.     0.     0.\n",
      "  0.     0.     0.     0.     0.     0.     0.    26.709  0.     0.\n",
      "  0.     0.     0.     0.     0.   ]\n",
      "25\n",
      "[0. 0. 0. 0. 0. 0. 0. 0. 0. 0. 0. 0. 0. 0. 0. 0. 0. 0. 0. 0. 0. 0. 0.]\n",
      "23\n",
      "[ 0.     0.     0.     0.     0.     0.     0.     8.528  0.     0.\n",
      "  0.     0.     0.     0.     0.     0.     0.     0.     0.     0.\n",
      "  0.     0.     0.    23.273  0.     0.   ]\n",
      "26\n",
      "[ 0.     0.     0.     0.     0.     0.     0.     0.    25.998  0.\n",
      "  0.     0.     0.     0.     0.     0.     0.     0.     0.     0.\n",
      "  0.     0.     0.     0.   ]\n",
      "24\n",
      "[0. 0. 0. 0. 0. 0. 0. 0. 0. 0. 0. 0. 0. 0. 0. 0. 0. 0. 0. 0. 0. 0. 0.]\n",
      "23\n"
     ]
    }
   ],
   "source": [
    "d=ImageData(pathtoPTUs,0)"
   ]
  },
  {
   "cell_type": "code",
   "execution_count": 23,
   "id": "661aee8a",
   "metadata": {},
   "outputs": [
    {
     "data": {
      "text/plain": [
       "array([27., 30., 26., 27., 29., 25., 27., 26., 26., 24., 25., 26., 29.,\n",
       "       27., 27., 25., 27., 27., 27., 23., 25., 23., 26., 24., 23.])"
      ]
     },
     "execution_count": 23,
     "metadata": {},
     "output_type": "execute_result"
    }
   ],
   "source": [
    "d.T[2]"
   ]
  },
  {
   "cell_type": "code",
   "execution_count": 24,
   "id": "4024300e",
   "metadata": {},
   "outputs": [
    {
     "data": {
      "text/plain": [
       "<matplotlib.collections.PathCollection at 0x28a0d17a4d0>"
      ]
     },
     "execution_count": 24,
     "metadata": {},
     "output_type": "execute_result"
    },
    {
     "data": {
      "image/png": "[encoded data removed]",
      "text/plain": [
       "<Figure size 300x300 with 1 Axes>"
      ]
     },
     "metadata": {},
     "output_type": "display_data"
    }
   ],
   "source": [
    "plt.figure(figsize=(3,3))\n",
    "plt.scatter(d.T[0],d.T[1],c=d.T[2],marker='s',s=1200)"
   ]
  },
  {
   "cell_type": "code",
   "execution_count": null,
   "id": "cb8aa4f0",
   "metadata": {},
   "outputs": [],
   "source": []
  }
 ],
 "metadata": {
  "kernelspec": {
   "display_name": "Python 3 (ipykernel)",
   "language": "python",
   "name": "python3"
  },
  "language_info": {
   "codemirror_mode": {
    "name": "ipython",
    "version": 3
   },
   "file_extension": ".py",
   "mimetype": "text/x-python",
   "name": "python",
   "nbconvert_exporter": "python",
   "pygments_lexer": "ipython3",
   "version": "3.11.4"
  },
  "toc": {
   "base_numbering": 1,
   "nav_menu": {},
   "number_sections": true,
   "sideBar": true,
   "skip_h1_title": false,
   "title_cell": "Table of Contents",
   "title_sidebar": "Contents",
   "toc_cell": false,
   "toc_position": {},
   "toc_section_display": true,
   "toc_window_display": false
  }
 },
 "nbformat": 4,
 "nbformat_minor": 5
}
